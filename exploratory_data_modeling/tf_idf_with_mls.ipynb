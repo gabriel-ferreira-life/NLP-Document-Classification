{
 "cells": [
  {
   "cell_type": "markdown",
   "metadata": {},
   "source": [
    "## Libraries"
   ]
  },
  {
   "cell_type": "code",
   "execution_count": 10,
   "metadata": {},
   "outputs": [],
   "source": [
    "import json\n",
    "import pandas as pd\n",
    "import numpy as np\n",
    "import os\n",
    "import matplotlib.pyplot as plt"
   ]
  },
  {
   "cell_type": "markdown",
   "metadata": {},
   "source": [
    "## Config"
   ]
  },
  {
   "cell_type": "code",
   "execution_count": 9,
   "metadata": {},
   "outputs": [],
   "source": [
    "# Load the config file\n",
    "with open('../config/config.json', 'r') as f:\n",
    "    config = json.load(f)\n",
    "\n",
    "file_path = config[\"data_loc\"]"
   ]
  },
  {
   "cell_type": "markdown",
   "metadata": {},
   "source": [
    " ## Datasets"
   ]
  },
  {
   "cell_type": "markdown",
   "metadata": {},
   "source": [
    "### Inference batch"
   ]
  },
  {
   "cell_type": "code",
   "execution_count": 13,
   "metadata": {},
   "outputs": [
    {
     "name": "stdout",
     "output_type": "stream",
     "text": [
      "The inference batch has 1097 observations and 4 columns.\n"
     ]
    },
    {
     "data": {
      "text/html": [
       "<div>\n",
       "<style scoped>\n",
       "    .dataframe tbody tr th:only-of-type {\n",
       "        vertical-align: middle;\n",
       "    }\n",
       "\n",
       "    .dataframe tbody tr th {\n",
       "        vertical-align: top;\n",
       "    }\n",
       "\n",
       "    .dataframe thead th {\n",
       "        text-align: right;\n",
       "    }\n",
       "</style>\n",
       "<table border=\"1\" class=\"dataframe\">\n",
       "  <thead>\n",
       "    <tr style=\"text-align: right;\">\n",
       "      <th></th>\n",
       "      <th>PMID</th>\n",
       "      <th>Title</th>\n",
       "      <th>Abstract</th>\n",
       "      <th>Label</th>\n",
       "    </tr>\n",
       "  </thead>\n",
       "  <tbody>\n",
       "    <tr>\n",
       "      <th>0</th>\n",
       "      <td>34902587</td>\n",
       "      <td>Detection of porcine circovirus type 3 DNA in ...</td>\n",
       "      <td>Porcine circovirus type 3 (PCV3) is regularly ...</td>\n",
       "      <td>0</td>\n",
       "    </tr>\n",
       "    <tr>\n",
       "      <th>1</th>\n",
       "      <td>35451025</td>\n",
       "      <td>Imputation of non-genotyped F1 dams to improve...</td>\n",
       "      <td>This study investigated using imputed genotype...</td>\n",
       "      <td>0</td>\n",
       "    </tr>\n",
       "    <tr>\n",
       "      <th>2</th>\n",
       "      <td>34859764</td>\n",
       "      <td>Proposed multidimensional pain outcome methodo...</td>\n",
       "      <td>Castration of male piglets in the United State...</td>\n",
       "      <td>0</td>\n",
       "    </tr>\n",
       "    <tr>\n",
       "      <th>3</th>\n",
       "      <td>35143972</td>\n",
       "      <td>Nanostructured lipid carriers loaded with an a...</td>\n",
       "      <td>Alopecia is a condition associated with differ...</td>\n",
       "      <td>0</td>\n",
       "    </tr>\n",
       "    <tr>\n",
       "      <th>4</th>\n",
       "      <td>34872491</td>\n",
       "      <td>Genome-wide expression of the residual lung re...</td>\n",
       "      <td>BACKGROUND: Acute or chronic irreversible resp...</td>\n",
       "      <td>0</td>\n",
       "    </tr>\n",
       "  </tbody>\n",
       "</table>\n",
       "</div>"
      ],
      "text/plain": [
       "       PMID                                              Title  \\\n",
       "0  34902587  Detection of porcine circovirus type 3 DNA in ...   \n",
       "1  35451025  Imputation of non-genotyped F1 dams to improve...   \n",
       "2  34859764  Proposed multidimensional pain outcome methodo...   \n",
       "3  35143972  Nanostructured lipid carriers loaded with an a...   \n",
       "4  34872491  Genome-wide expression of the residual lung re...   \n",
       "\n",
       "                                            Abstract  Label  \n",
       "0  Porcine circovirus type 3 (PCV3) is regularly ...      0  \n",
       "1  This study investigated using imputed genotype...      0  \n",
       "2  Castration of male piglets in the United State...      0  \n",
       "3  Alopecia is a condition associated with differ...      0  \n",
       "4  BACKGROUND: Acute or chronic irreversible resp...      0  "
      ]
     },
     "execution_count": 3,
     "metadata": {},
     "output_type": "execute_result"
    }
   ],
   "source": [
    "# Define file path\n",
    "file_name = \"test_unlabeled.tsv\"\n",
    "final_path = os.path.join(file_path, file_name) \n",
    "\n",
    "# Load tsv file\n",
    "inference_batch = pd.read_csv(final_path, sep='\\t')\n",
    "print(f\"The inference batch has {inference_batch.shape[0]} observations and {inference_batch.shape[1]} columns.\")\n",
    "inference_batch.head()"
   ]
  },
  {
   "cell_type": "markdown",
   "metadata": {},
   "source": [
    "### Training Corpus"
   ]
  },
  {
   "cell_type": "code",
   "execution_count": null,
   "metadata": {},
   "outputs": [
    {
     "name": "stdout",
     "output_type": "stream",
     "text": [
      "Shape of the original dataset: (11278, 4) \n",
      "\n"
     ]
    },
    {
     "data": {
      "text/html": [
       "<div>\n",
       "<style scoped>\n",
       "    .dataframe tbody tr th:only-of-type {\n",
       "        vertical-align: middle;\n",
       "    }\n",
       "\n",
       "    .dataframe tbody tr th {\n",
       "        vertical-align: top;\n",
       "    }\n",
       "\n",
       "    .dataframe thead th {\n",
       "        text-align: right;\n",
       "    }\n",
       "</style>\n",
       "<table border=\"1\" class=\"dataframe\">\n",
       "  <thead>\n",
       "    <tr style=\"text-align: right;\">\n",
       "      <th></th>\n",
       "      <th>PMID</th>\n",
       "      <th>Title</th>\n",
       "      <th>Abstract</th>\n",
       "      <th>Category</th>\n",
       "    </tr>\n",
       "  </thead>\n",
       "  <tbody>\n",
       "    <tr>\n",
       "      <th>0</th>\n",
       "      <td>17179536</td>\n",
       "      <td>Variance component analysis of quantitative tr...</td>\n",
       "      <td>In a previous study, QTL for carcass compositi...</td>\n",
       "      <td>1</td>\n",
       "    </tr>\n",
       "    <tr>\n",
       "      <th>1</th>\n",
       "      <td>17177700</td>\n",
       "      <td>Single nucleotide polymorphism identification,...</td>\n",
       "      <td>Pituitary adenylate cyclase-activating polypep...</td>\n",
       "      <td>0</td>\n",
       "    </tr>\n",
       "    <tr>\n",
       "      <th>2</th>\n",
       "      <td>17129674</td>\n",
       "      <td>Genetic resistance to Sarcocystis miescheriana...</td>\n",
       "      <td>Clinical and parasitological traits of Sarcocy...</td>\n",
       "      <td>0</td>\n",
       "    </tr>\n",
       "    <tr>\n",
       "      <th>3</th>\n",
       "      <td>17121599</td>\n",
       "      <td>Results of a whole-genome quantitative trait l...</td>\n",
       "      <td>A whole-genome quantitative trait locus (QTL) ...</td>\n",
       "      <td>1</td>\n",
       "    </tr>\n",
       "    <tr>\n",
       "      <th>4</th>\n",
       "      <td>17057239</td>\n",
       "      <td>Unexpected high polymorphism at the FABP4 gene...</td>\n",
       "      <td>Fatty acid bing protein 4 (FABP4) plays a key ...</td>\n",
       "      <td>0</td>\n",
       "    </tr>\n",
       "  </tbody>\n",
       "</table>\n",
       "</div>"
      ],
      "text/plain": [
       "       PMID                                              Title  \\\n",
       "0  17179536  Variance component analysis of quantitative tr...   \n",
       "1  17177700  Single nucleotide polymorphism identification,...   \n",
       "2  17129674  Genetic resistance to Sarcocystis miescheriana...   \n",
       "3  17121599  Results of a whole-genome quantitative trait l...   \n",
       "4  17057239  Unexpected high polymorphism at the FABP4 gene...   \n",
       "\n",
       "                                            Abstract  Category  \n",
       "0  In a previous study, QTL for carcass compositi...         1  \n",
       "1  Pituitary adenylate cyclase-activating polypep...         0  \n",
       "2  Clinical and parasitological traits of Sarcocy...         0  \n",
       "3  A whole-genome quantitative trait locus (QTL) ...         1  \n",
       "4  Fatty acid bing protein 4 (FABP4) plays a key ...         0  "
      ]
     },
     "execution_count": 4,
     "metadata": {},
     "output_type": "execute_result"
    }
   ],
   "source": [
    "# Define file path\n",
    "file_name = \"QTL_text.json\"\n",
    "final_path = os.path.join(file_path, file_name) \n",
    "\n",
    "# Load json file\n",
    "df = pd.read_json(final_path)\n",
    "df = df.drop(columns=['Journal'])\n",
    "print(f\"Shape of the original dataset: {df.shape}\", \"\\n\")\n",
    "df.head()"
   ]
  },
  {
   "cell_type": "markdown",
   "metadata": {},
   "source": [
    "### Pre-Processing"
   ]
  },
  {
   "cell_type": "code",
   "execution_count": 5,
   "metadata": {},
   "outputs": [
    {
     "name": "stderr",
     "output_type": "stream",
     "text": [
      "[nltk_data] Downloading package punkt to /Users/gabrielvictorgomesferr\n",
      "[nltk_data]     eira/opt/anaconda3/envs/nlp_env/nltk_data...\n",
      "[nltk_data]   Package punkt is already up-to-date!\n",
      "[nltk_data] Downloading package stopwords to /Users/gabrielvictorgomes\n",
      "[nltk_data]     ferreira/opt/anaconda3/envs/nlp_env/nltk_data...\n",
      "[nltk_data]   Unzipping corpora/stopwords.zip.\n"
     ]
    }
   ],
   "source": [
    "import spacy\n",
    "nlp_spacy = spacy.load(\"en_core_web_sm\")\n",
    "\n",
    "import nltk\n",
    "nltk.download('punkt')\n",
    "nltk.download('stopwords')\n",
    "from nltk.tokenize import word_tokenize\n",
    "from nltk.corpus import stopwords, wordnet\n",
    "from nltk.stem import WordNetLemmatizer\n",
    "import string\n",
    "import re\n",
    "\n",
    "# Set stop words\n",
    "stop_words = set(stopwords.words('english'))\n",
    "\n",
    "# Set lemmatizer\n",
    "lemmatizer = WordNetLemmatizer()\n",
    "\n",
    "# Defining NLP Pre-Processing steps. These steps were the one that highlighted the most on my exploration phase\n",
    "def nlp_preprocessing(abstract_tokenized):\n",
    "    abstract_tokenized = abstract_tokenized.apply(lambda doc: doc.lower()) # Lowercasing txt\n",
    "    abstract_tokenized = abstract_tokenized.apply(lambda doc: doc.translate(str.maketrans(\"\", \"\", string.punctuation))) # Removing punctuations from the text\n",
    "    # abstract_tokenized = abstract_tokenized.apply(lambda doc: re.sub(r\"\\d+\", \"\", doc)) # Removing numbers from the text\n",
    "    abstract_tokenized = abstract_tokenized.apply(lambda doc: [token for token in word_tokenize(doc) if token not in stop_words]) # Tokenizing and removing stop words from the text\n",
    "    abstract_tokenized = abstract_tokenized.apply(lambda doc: [lemmatizer.lemmatize(token, pos=wordnet.NOUN) for token in doc]) # Convert words to their base\n",
    "    abstract_tokenized = abstract_tokenized.apply(lambda doc: [token.strip() for token in doc if token.strip() and len(token)>1]) # Removing extra space\n",
    "    return abstract_tokenized"
   ]
  },
  {
   "cell_type": "code",
   "execution_count": 6,
   "metadata": {},
   "outputs": [
    {
     "data": {
      "text/html": [
       "<div>\n",
       "<style scoped>\n",
       "    .dataframe tbody tr th:only-of-type {\n",
       "        vertical-align: middle;\n",
       "    }\n",
       "\n",
       "    .dataframe tbody tr th {\n",
       "        vertical-align: top;\n",
       "    }\n",
       "\n",
       "    .dataframe thead th {\n",
       "        text-align: right;\n",
       "    }\n",
       "</style>\n",
       "<table border=\"1\" class=\"dataframe\">\n",
       "  <thead>\n",
       "    <tr style=\"text-align: right;\">\n",
       "      <th></th>\n",
       "      <th>PMID</th>\n",
       "      <th>Title</th>\n",
       "      <th>Abstract</th>\n",
       "      <th>Category</th>\n",
       "      <th>title_nltk_token</th>\n",
       "      <th>abstract_nltk_token</th>\n",
       "    </tr>\n",
       "  </thead>\n",
       "  <tbody>\n",
       "    <tr>\n",
       "      <th>0</th>\n",
       "      <td>17179536</td>\n",
       "      <td>Variance component analysis of quantitative tr...</td>\n",
       "      <td>In a previous study, QTL for carcass compositi...</td>\n",
       "      <td>1</td>\n",
       "      <td>[variance, component, analysis, quantitative, ...</td>\n",
       "      <td>[previous, study, qtl, carcass, composition, m...</td>\n",
       "    </tr>\n",
       "    <tr>\n",
       "      <th>1</th>\n",
       "      <td>17177700</td>\n",
       "      <td>Single nucleotide polymorphism identification,...</td>\n",
       "      <td>Pituitary adenylate cyclase-activating polypep...</td>\n",
       "      <td>0</td>\n",
       "      <td>[single, nucleotide, polymorphism, identificat...</td>\n",
       "      <td>[pituitary, adenylate, cyclaseactivating, poly...</td>\n",
       "    </tr>\n",
       "    <tr>\n",
       "      <th>2</th>\n",
       "      <td>17129674</td>\n",
       "      <td>Genetic resistance to Sarcocystis miescheriana...</td>\n",
       "      <td>Clinical and parasitological traits of Sarcocy...</td>\n",
       "      <td>0</td>\n",
       "      <td>[genetic, resistance, sarcocystis, miescherian...</td>\n",
       "      <td>[clinical, parasitological, trait, sarcocystis...</td>\n",
       "    </tr>\n",
       "    <tr>\n",
       "      <th>3</th>\n",
       "      <td>17121599</td>\n",
       "      <td>Results of a whole-genome quantitative trait l...</td>\n",
       "      <td>A whole-genome quantitative trait locus (QTL) ...</td>\n",
       "      <td>1</td>\n",
       "      <td>[result, wholegenome, quantitative, trait, loc...</td>\n",
       "      <td>[wholegenome, quantitative, trait, locus, qtl,...</td>\n",
       "    </tr>\n",
       "    <tr>\n",
       "      <th>4</th>\n",
       "      <td>17057239</td>\n",
       "      <td>Unexpected high polymorphism at the FABP4 gene...</td>\n",
       "      <td>Fatty acid bing protein 4 (FABP4) plays a key ...</td>\n",
       "      <td>0</td>\n",
       "      <td>[unexpected, high, polymorphism, fabp4, gene, ...</td>\n",
       "      <td>[fatty, acid, bing, protein, fabp4, play, key,...</td>\n",
       "    </tr>\n",
       "  </tbody>\n",
       "</table>\n",
       "</div>"
      ],
      "text/plain": [
       "       PMID                                              Title  \\\n",
       "0  17179536  Variance component analysis of quantitative tr...   \n",
       "1  17177700  Single nucleotide polymorphism identification,...   \n",
       "2  17129674  Genetic resistance to Sarcocystis miescheriana...   \n",
       "3  17121599  Results of a whole-genome quantitative trait l...   \n",
       "4  17057239  Unexpected high polymorphism at the FABP4 gene...   \n",
       "\n",
       "                                            Abstract  Category  \\\n",
       "0  In a previous study, QTL for carcass compositi...         1   \n",
       "1  Pituitary adenylate cyclase-activating polypep...         0   \n",
       "2  Clinical and parasitological traits of Sarcocy...         0   \n",
       "3  A whole-genome quantitative trait locus (QTL) ...         1   \n",
       "4  Fatty acid bing protein 4 (FABP4) plays a key ...         0   \n",
       "\n",
       "                                    title_nltk_token  \\\n",
       "0  [variance, component, analysis, quantitative, ...   \n",
       "1  [single, nucleotide, polymorphism, identificat...   \n",
       "2  [genetic, resistance, sarcocystis, miescherian...   \n",
       "3  [result, wholegenome, quantitative, trait, loc...   \n",
       "4  [unexpected, high, polymorphism, fabp4, gene, ...   \n",
       "\n",
       "                                 abstract_nltk_token  \n",
       "0  [previous, study, qtl, carcass, composition, m...  \n",
       "1  [pituitary, adenylate, cyclaseactivating, poly...  \n",
       "2  [clinical, parasitological, trait, sarcocystis...  \n",
       "3  [wholegenome, quantitative, trait, locus, qtl,...  \n",
       "4  [fatty, acid, bing, protein, fabp4, play, key,...  "
      ]
     },
     "execution_count": 6,
     "metadata": {},
     "output_type": "execute_result"
    }
   ],
   "source": [
    "# Applying pre-defined pre-processing steps\n",
    "df_processed = df.copy()\n",
    "df_processed['title_nltk_token'] = nlp_preprocessing(df_processed['Title'])\n",
    "df_processed['abstract_nltk_token'] = nlp_preprocessing(df_processed['Abstract'])\n",
    "df_processed.head()"
   ]
  },
  {
   "cell_type": "markdown",
   "metadata": {},
   "source": [
    "### Key-phrase extraction"
   ]
  },
  {
   "cell_type": "code",
   "execution_count": 7,
   "metadata": {},
   "outputs": [],
   "source": [
    "import gensim\n",
    "from gensim.models.phrases import Phraser, Phrases"
   ]
  },
  {
   "cell_type": "code",
   "execution_count": 8,
   "metadata": {},
   "outputs": [],
   "source": [
    "def gensim_key_phrase_extractor(list_of_tokens):\n",
    "    bigram = Phraser(Phrases(list_of_tokens, min_count=2, threshold=15))\n",
    "    bigram_token = [bigram[doc] for doc in list_of_tokens]\n",
    "    return bigram_token"
   ]
  },
  {
   "cell_type": "code",
   "execution_count": 9,
   "metadata": {},
   "outputs": [
    {
     "data": {
      "text/html": [
       "<div>\n",
       "<style scoped>\n",
       "    .dataframe tbody tr th:only-of-type {\n",
       "        vertical-align: middle;\n",
       "    }\n",
       "\n",
       "    .dataframe tbody tr th {\n",
       "        vertical-align: top;\n",
       "    }\n",
       "\n",
       "    .dataframe thead th {\n",
       "        text-align: right;\n",
       "    }\n",
       "</style>\n",
       "<table border=\"1\" class=\"dataframe\">\n",
       "  <thead>\n",
       "    <tr style=\"text-align: right;\">\n",
       "      <th></th>\n",
       "      <th>PMID</th>\n",
       "      <th>Title</th>\n",
       "      <th>Abstract</th>\n",
       "      <th>Category</th>\n",
       "      <th>title_nltk_token</th>\n",
       "      <th>abstract_nltk_token</th>\n",
       "      <th>title_bigram</th>\n",
       "      <th>abstract_bigram</th>\n",
       "    </tr>\n",
       "  </thead>\n",
       "  <tbody>\n",
       "    <tr>\n",
       "      <th>0</th>\n",
       "      <td>17179536</td>\n",
       "      <td>Variance component analysis of quantitative tr...</td>\n",
       "      <td>In a previous study, QTL for carcass compositi...</td>\n",
       "      <td>1</td>\n",
       "      <td>[variance, component, analysis, quantitative, ...</td>\n",
       "      <td>[previous, study, qtl, carcass, composition, m...</td>\n",
       "      <td>[variance_component, analysis, quantitative_tr...</td>\n",
       "      <td>[previous_study, qtl, carcass_composition, mea...</td>\n",
       "    </tr>\n",
       "    <tr>\n",
       "      <th>1</th>\n",
       "      <td>17177700</td>\n",
       "      <td>Single nucleotide polymorphism identification,...</td>\n",
       "      <td>Pituitary adenylate cyclase-activating polypep...</td>\n",
       "      <td>0</td>\n",
       "      <td>[single, nucleotide, polymorphism, identificat...</td>\n",
       "      <td>[pituitary, adenylate, cyclaseactivating, poly...</td>\n",
       "      <td>[single_nucleotide, polymorphism, identificati...</td>\n",
       "      <td>[pituitary, adenylate, cyclaseactivating, poly...</td>\n",
       "    </tr>\n",
       "    <tr>\n",
       "      <th>2</th>\n",
       "      <td>17129674</td>\n",
       "      <td>Genetic resistance to Sarcocystis miescheriana...</td>\n",
       "      <td>Clinical and parasitological traits of Sarcocy...</td>\n",
       "      <td>0</td>\n",
       "      <td>[genetic, resistance, sarcocystis, miescherian...</td>\n",
       "      <td>[clinical, parasitological, trait, sarcocystis...</td>\n",
       "      <td>[genetic, resistance, sarcocystis, miescherian...</td>\n",
       "      <td>[clinical, parasitological, trait, sarcocystis...</td>\n",
       "    </tr>\n",
       "    <tr>\n",
       "      <th>3</th>\n",
       "      <td>17121599</td>\n",
       "      <td>Results of a whole-genome quantitative trait l...</td>\n",
       "      <td>A whole-genome quantitative trait locus (QTL) ...</td>\n",
       "      <td>1</td>\n",
       "      <td>[result, wholegenome, quantitative, trait, loc...</td>\n",
       "      <td>[wholegenome, quantitative, trait, locus, qtl,...</td>\n",
       "      <td>[result, wholegenome, quantitative_trait, locu...</td>\n",
       "      <td>[wholegenome, quantitative_trait, locus_qtl, s...</td>\n",
       "    </tr>\n",
       "    <tr>\n",
       "      <th>4</th>\n",
       "      <td>17057239</td>\n",
       "      <td>Unexpected high polymorphism at the FABP4 gene...</td>\n",
       "      <td>Fatty acid bing protein 4 (FABP4) plays a key ...</td>\n",
       "      <td>0</td>\n",
       "      <td>[unexpected, high, polymorphism, fabp4, gene, ...</td>\n",
       "      <td>[fatty, acid, bing, protein, fabp4, play, key,...</td>\n",
       "      <td>[unexpected, high, polymorphism, fabp4_gene, u...</td>\n",
       "      <td>[fatty_acid, bing, protein_fabp4, play_key, ro...</td>\n",
       "    </tr>\n",
       "  </tbody>\n",
       "</table>\n",
       "</div>"
      ],
      "text/plain": [
       "       PMID                                              Title  \\\n",
       "0  17179536  Variance component analysis of quantitative tr...   \n",
       "1  17177700  Single nucleotide polymorphism identification,...   \n",
       "2  17129674  Genetic resistance to Sarcocystis miescheriana...   \n",
       "3  17121599  Results of a whole-genome quantitative trait l...   \n",
       "4  17057239  Unexpected high polymorphism at the FABP4 gene...   \n",
       "\n",
       "                                            Abstract  Category  \\\n",
       "0  In a previous study, QTL for carcass compositi...         1   \n",
       "1  Pituitary adenylate cyclase-activating polypep...         0   \n",
       "2  Clinical and parasitological traits of Sarcocy...         0   \n",
       "3  A whole-genome quantitative trait locus (QTL) ...         1   \n",
       "4  Fatty acid bing protein 4 (FABP4) plays a key ...         0   \n",
       "\n",
       "                                    title_nltk_token  \\\n",
       "0  [variance, component, analysis, quantitative, ...   \n",
       "1  [single, nucleotide, polymorphism, identificat...   \n",
       "2  [genetic, resistance, sarcocystis, miescherian...   \n",
       "3  [result, wholegenome, quantitative, trait, loc...   \n",
       "4  [unexpected, high, polymorphism, fabp4, gene, ...   \n",
       "\n",
       "                                 abstract_nltk_token  \\\n",
       "0  [previous, study, qtl, carcass, composition, m...   \n",
       "1  [pituitary, adenylate, cyclaseactivating, poly...   \n",
       "2  [clinical, parasitological, trait, sarcocystis...   \n",
       "3  [wholegenome, quantitative, trait, locus, qtl,...   \n",
       "4  [fatty, acid, bing, protein, fabp4, play, key,...   \n",
       "\n",
       "                                        title_bigram  \\\n",
       "0  [variance_component, analysis, quantitative_tr...   \n",
       "1  [single_nucleotide, polymorphism, identificati...   \n",
       "2  [genetic, resistance, sarcocystis, miescherian...   \n",
       "3  [result, wholegenome, quantitative_trait, locu...   \n",
       "4  [unexpected, high, polymorphism, fabp4_gene, u...   \n",
       "\n",
       "                                     abstract_bigram  \n",
       "0  [previous_study, qtl, carcass_composition, mea...  \n",
       "1  [pituitary, adenylate, cyclaseactivating, poly...  \n",
       "2  [clinical, parasitological, trait, sarcocystis...  \n",
       "3  [wholegenome, quantitative_trait, locus_qtl, s...  \n",
       "4  [fatty_acid, bing, protein_fabp4, play_key, ro...  "
      ]
     },
     "execution_count": 9,
     "metadata": {},
     "output_type": "execute_result"
    }
   ],
   "source": [
    "# Bigram\n",
    "df_processed['title_bigram'] = gensim_key_phrase_extractor(df_processed['title_nltk_token'])\n",
    "df_processed['abstract_bigram'] = gensim_key_phrase_extractor(df_processed['abstract_nltk_token'])\n",
    "\n",
    "df_processed.head()"
   ]
  },
  {
   "cell_type": "markdown",
   "metadata": {},
   "source": [
    "## Modeling Exploratory"
   ]
  },
  {
   "cell_type": "code",
   "execution_count": 17,
   "metadata": {},
   "outputs": [],
   "source": [
    "from sklearn.model_selection import train_test_split"
   ]
  },
  {
   "cell_type": "code",
   "execution_count": 11,
   "metadata": {},
   "outputs": [],
   "source": [
    "from sklearn.feature_extraction.text import TfidfVectorizer"
   ]
  },
  {
   "cell_type": "markdown",
   "metadata": {},
   "source": [
    "### Train-Test Split"
   ]
  },
  {
   "cell_type": "code",
   "execution_count": 18,
   "metadata": {},
   "outputs": [],
   "source": [
    "# Define predictor and target features\n",
    "X = df_processed.drop(columns=['Category'])\n",
    "y = df_processed['Category']\n",
    "\n",
    "# Split train and test\n",
    "X_train, X_val, y_train, y_val = train_test_split(X,y, test_size=.2, random_state=42, stratify=y)"
   ]
  },
  {
   "cell_type": "markdown",
   "metadata": {},
   "source": [
    "### TF-IDF Vectors Out Of Abstracts\n",
    "#### Train Set"
   ]
  },
  {
   "cell_type": "code",
   "execution_count": 33,
   "metadata": {},
   "outputs": [
    {
     "name": "stdout",
     "output_type": "stream",
     "text": [
      "(9022, 104270)\n",
      "9022\n"
     ]
    },
    {
     "data": {
      "text/plain": [
       "array([[0., 0., 0., ..., 0., 0., 0.],\n",
       "       [0., 0., 0., ..., 0., 0., 0.],\n",
       "       [0., 0., 0., ..., 0., 0., 0.],\n",
       "       ...,\n",
       "       [0., 0., 0., ..., 0., 0., 0.],\n",
       "       [0., 0., 0., ..., 0., 0., 0.],\n",
       "       [0., 0., 0., ..., 0., 0., 0.]])"
      ]
     },
     "execution_count": 33,
     "metadata": {},
     "output_type": "execute_result"
    }
   ],
   "source": [
    "train_bigram_token = X_train['abstract_bigram']\n",
    "train_bigram_documents = [\" \".join(token) for token in bigram_token]\n",
    "\n",
    "# Compute TF-IDF\n",
    "tfidf_vec = TfidfVectorizer(stop_words='english')\n",
    "train_tfidf_matrix = tfidf_vec.fit_transform(train_bigram_documents)\n",
    "\n",
    "print(train_tfidf_matrix.shape)\n",
    "print(len(y_train))\n",
    "train_tfidf_matrix[0:].toarray()"
   ]
  },
  {
   "cell_type": "markdown",
   "metadata": {},
   "source": [
    "#### Test Set"
   ]
  },
  {
   "cell_type": "code",
   "execution_count": 34,
   "metadata": {},
   "outputs": [
    {
     "name": "stdout",
     "output_type": "stream",
     "text": [
      "(2256, 104270)\n",
      "2256\n"
     ]
    },
    {
     "data": {
      "text/plain": [
       "array([[0., 0., 0., ..., 0., 0., 0.],\n",
       "       [0., 0., 0., ..., 0., 0., 0.],\n",
       "       [0., 0., 0., ..., 0., 0., 0.],\n",
       "       ...,\n",
       "       [0., 0., 0., ..., 0., 0., 0.],\n",
       "       [0., 0., 0., ..., 0., 0., 0.],\n",
       "       [0., 0., 0., ..., 0., 0., 0.]])"
      ]
     },
     "execution_count": 34,
     "metadata": {},
     "output_type": "execute_result"
    }
   ],
   "source": [
    "val_bigram_token = X_val['abstract_bigram']\n",
    "val_bigram_documents = [\" \".join(token) for token in val_bigram_token]\n",
    "\n",
    "# Compute TF-IDF\n",
    "val_tfidf_matrix = tfidf_vec.transform(val_bigram_documents)\n",
    "\n",
    "print(val_tfidf_matrix.shape)\n",
    "print(len(y_val))\n",
    "val_tfidf_matrix[0:].toarray()"
   ]
  },
  {
   "cell_type": "markdown",
   "metadata": {},
   "source": [
    "### Train ML Models"
   ]
  },
  {
   "cell_type": "code",
   "execution_count": 35,
   "metadata": {},
   "outputs": [
    {
     "data": {
      "text/html": [
       "<style>#sk-container-id-2 {color: black;background-color: white;}#sk-container-id-2 pre{padding: 0;}#sk-container-id-2 div.sk-toggleable {background-color: white;}#sk-container-id-2 label.sk-toggleable__label {cursor: pointer;display: block;width: 100%;margin-bottom: 0;padding: 0.3em;box-sizing: border-box;text-align: center;}#sk-container-id-2 label.sk-toggleable__label-arrow:before {content: \"▸\";float: left;margin-right: 0.25em;color: #696969;}#sk-container-id-2 label.sk-toggleable__label-arrow:hover:before {color: black;}#sk-container-id-2 div.sk-estimator:hover label.sk-toggleable__label-arrow:before {color: black;}#sk-container-id-2 div.sk-toggleable__content {max-height: 0;max-width: 0;overflow: hidden;text-align: left;background-color: #f0f8ff;}#sk-container-id-2 div.sk-toggleable__content pre {margin: 0.2em;color: black;border-radius: 0.25em;background-color: #f0f8ff;}#sk-container-id-2 input.sk-toggleable__control:checked~div.sk-toggleable__content {max-height: 200px;max-width: 100%;overflow: auto;}#sk-container-id-2 input.sk-toggleable__control:checked~label.sk-toggleable__label-arrow:before {content: \"▾\";}#sk-container-id-2 div.sk-estimator input.sk-toggleable__control:checked~label.sk-toggleable__label {background-color: #d4ebff;}#sk-container-id-2 div.sk-label input.sk-toggleable__control:checked~label.sk-toggleable__label {background-color: #d4ebff;}#sk-container-id-2 input.sk-hidden--visually {border: 0;clip: rect(1px 1px 1px 1px);clip: rect(1px, 1px, 1px, 1px);height: 1px;margin: -1px;overflow: hidden;padding: 0;position: absolute;width: 1px;}#sk-container-id-2 div.sk-estimator {font-family: monospace;background-color: #f0f8ff;border: 1px dotted black;border-radius: 0.25em;box-sizing: border-box;margin-bottom: 0.5em;}#sk-container-id-2 div.sk-estimator:hover {background-color: #d4ebff;}#sk-container-id-2 div.sk-parallel-item::after {content: \"\";width: 100%;border-bottom: 1px solid gray;flex-grow: 1;}#sk-container-id-2 div.sk-label:hover label.sk-toggleable__label {background-color: #d4ebff;}#sk-container-id-2 div.sk-serial::before {content: \"\";position: absolute;border-left: 1px solid gray;box-sizing: border-box;top: 0;bottom: 0;left: 50%;z-index: 0;}#sk-container-id-2 div.sk-serial {display: flex;flex-direction: column;align-items: center;background-color: white;padding-right: 0.2em;padding-left: 0.2em;position: relative;}#sk-container-id-2 div.sk-item {position: relative;z-index: 1;}#sk-container-id-2 div.sk-parallel {display: flex;align-items: stretch;justify-content: center;background-color: white;position: relative;}#sk-container-id-2 div.sk-item::before, #sk-container-id-2 div.sk-parallel-item::before {content: \"\";position: absolute;border-left: 1px solid gray;box-sizing: border-box;top: 0;bottom: 0;left: 50%;z-index: -1;}#sk-container-id-2 div.sk-parallel-item {display: flex;flex-direction: column;z-index: 1;position: relative;background-color: white;}#sk-container-id-2 div.sk-parallel-item:first-child::after {align-self: flex-end;width: 50%;}#sk-container-id-2 div.sk-parallel-item:last-child::after {align-self: flex-start;width: 50%;}#sk-container-id-2 div.sk-parallel-item:only-child::after {width: 0;}#sk-container-id-2 div.sk-dashed-wrapped {border: 1px dashed gray;margin: 0 0.4em 0.5em 0.4em;box-sizing: border-box;padding-bottom: 0.4em;background-color: white;}#sk-container-id-2 div.sk-label label {font-family: monospace;font-weight: bold;display: inline-block;line-height: 1.2em;}#sk-container-id-2 div.sk-label-container {text-align: center;}#sk-container-id-2 div.sk-container {/* jupyter's `normalize.less` sets `[hidden] { display: none; }` but bootstrap.min.css set `[hidden] { display: none !important; }` so we also need the `!important` here to be able to override the default hidden behavior on the sphinx rendered scikit-learn.org. See: https://github.com/scikit-learn/scikit-learn/issues/21755 */display: inline-block !important;position: relative;}#sk-container-id-2 div.sk-text-repr-fallback {display: none;}</style><div id=\"sk-container-id-2\" class=\"sk-top-container\"><div class=\"sk-text-repr-fallback\"><pre>LogisticRegression(random_state=42, solver=&#x27;liblinear&#x27;)</pre><b>In a Jupyter environment, please rerun this cell to show the HTML representation or trust the notebook. <br />On GitHub, the HTML representation is unable to render, please try loading this page with nbviewer.org.</b></div><div class=\"sk-container\" hidden><div class=\"sk-item\"><div class=\"sk-estimator sk-toggleable\"><input class=\"sk-toggleable__control sk-hidden--visually\" id=\"sk-estimator-id-2\" type=\"checkbox\" checked><label for=\"sk-estimator-id-2\" class=\"sk-toggleable__label sk-toggleable__label-arrow\">LogisticRegression</label><div class=\"sk-toggleable__content\"><pre>LogisticRegression(random_state=42, solver=&#x27;liblinear&#x27;)</pre></div></div></div></div></div>"
      ],
      "text/plain": [
       "LogisticRegression(random_state=42, solver='liblinear')"
      ]
     },
     "execution_count": 35,
     "metadata": {},
     "output_type": "execute_result"
    }
   ],
   "source": [
    "from sklearn.linear_model import LogisticRegression\n",
    "\n",
    "lg_model = LogisticRegression(solver='liblinear', random_state=42)\n",
    "lg_model.fit(train_tfidf_matrix, y_train)"
   ]
  },
  {
   "cell_type": "code",
   "execution_count": 36,
   "metadata": {},
   "outputs": [],
   "source": [
    "from sklearn.metrics import accuracy_score, classification_report, confusion_matrix"
   ]
  },
  {
   "cell_type": "code",
   "execution_count": 37,
   "metadata": {},
   "outputs": [
    {
     "name": "stdout",
     "output_type": "stream",
     "text": [
      "Accuracy: 0.93927304964539\n",
      "\n",
      "Classification Report:\n",
      "              precision    recall  f1-score   support\n",
      "\n",
      "           0       0.95      0.99      0.97      2055\n",
      "           1       0.77      0.45      0.57       201\n",
      "\n",
      "    accuracy                           0.94      2256\n",
      "   macro avg       0.86      0.72      0.77      2256\n",
      "weighted avg       0.93      0.94      0.93      2256\n",
      "\n",
      "\n",
      "Confusion Matrix:\n",
      "[[2028   27]\n",
      " [ 110   91]]\n"
     ]
    }
   ],
   "source": [
    "# Predict on the test set:\n",
    "y_pred = lg_model.predict(val_tfidf_matrix)\n",
    "\n",
    "# Evaluate the model:\n",
    "print(\"Accuracy:\", accuracy_score(y_val, y_pred))\n",
    "print(\"\\nClassification Report:\")\n",
    "print(classification_report(y_val, y_pred))\n",
    "print(\"\\nConfusion Matrix:\")\n",
    "print(confusion_matrix(y_val, y_pred))"
   ]
  }
 ],
 "metadata": {
  "kernelspec": {
   "display_name": "nlp_env",
   "language": "python",
   "name": "python3"
  },
  "language_info": {
   "codemirror_mode": {
    "name": "ipython",
    "version": 3
   },
   "file_extension": ".py",
   "mimetype": "text/x-python",
   "name": "python",
   "nbconvert_exporter": "python",
   "pygments_lexer": "ipython3",
   "version": "3.10.16"
  }
 },
 "nbformat": 4,
 "nbformat_minor": 2
}
