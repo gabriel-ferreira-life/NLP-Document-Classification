{
 "cells": [
  {
   "cell_type": "markdown",
   "metadata": {},
   "source": [
    "## Libraries"
   ]
  },
  {
   "cell_type": "code",
   "execution_count": 8,
   "metadata": {},
   "outputs": [],
   "source": [
    "import json\n",
    "import pandas as pd\n",
    "import numpy as np\n",
    "import os"
   ]
  },
  {
   "cell_type": "markdown",
   "metadata": {},
   "source": [
    "## Config"
   ]
  },
  {
   "cell_type": "code",
   "execution_count": 9,
   "metadata": {},
   "outputs": [],
   "source": [
    "# Load the config file\n",
    "with open('../config/config.json', 'r') as f:\n",
    "    config = json.load(f)\n",
    "\n",
    "file_path = config[\"data_loc\"]"
   ]
  },
  {
   "cell_type": "markdown",
   "metadata": {},
   "source": [
    " ## Datasets"
   ]
  },
  {
   "cell_type": "markdown",
   "metadata": {},
   "source": [
    "### Inference batch"
   ]
  },
  {
   "cell_type": "code",
   "execution_count": 13,
   "metadata": {},
   "outputs": [
    {
     "name": "stdout",
     "output_type": "stream",
     "text": [
      "The inference batch has 1097 observations and 4 columns.\n"
     ]
    },
    {
     "data": {
      "text/html": [
       "<div>\n",
       "<style scoped>\n",
       "    .dataframe tbody tr th:only-of-type {\n",
       "        vertical-align: middle;\n",
       "    }\n",
       "\n",
       "    .dataframe tbody tr th {\n",
       "        vertical-align: top;\n",
       "    }\n",
       "\n",
       "    .dataframe thead th {\n",
       "        text-align: right;\n",
       "    }\n",
       "</style>\n",
       "<table border=\"1\" class=\"dataframe\">\n",
       "  <thead>\n",
       "    <tr style=\"text-align: right;\">\n",
       "      <th></th>\n",
       "      <th>PMID</th>\n",
       "      <th>Title</th>\n",
       "      <th>Abstract</th>\n",
       "      <th>Label</th>\n",
       "    </tr>\n",
       "  </thead>\n",
       "  <tbody>\n",
       "    <tr>\n",
       "      <th>0</th>\n",
       "      <td>34902587</td>\n",
       "      <td>Detection of porcine circovirus type 3 DNA in ...</td>\n",
       "      <td>Porcine circovirus type 3 (PCV3) is regularly ...</td>\n",
       "      <td>0</td>\n",
       "    </tr>\n",
       "    <tr>\n",
       "      <th>1</th>\n",
       "      <td>35451025</td>\n",
       "      <td>Imputation of non-genotyped F1 dams to improve...</td>\n",
       "      <td>This study investigated using imputed genotype...</td>\n",
       "      <td>0</td>\n",
       "    </tr>\n",
       "    <tr>\n",
       "      <th>2</th>\n",
       "      <td>34859764</td>\n",
       "      <td>Proposed multidimensional pain outcome methodo...</td>\n",
       "      <td>Castration of male piglets in the United State...</td>\n",
       "      <td>0</td>\n",
       "    </tr>\n",
       "    <tr>\n",
       "      <th>3</th>\n",
       "      <td>35143972</td>\n",
       "      <td>Nanostructured lipid carriers loaded with an a...</td>\n",
       "      <td>Alopecia is a condition associated with differ...</td>\n",
       "      <td>0</td>\n",
       "    </tr>\n",
       "    <tr>\n",
       "      <th>4</th>\n",
       "      <td>34872491</td>\n",
       "      <td>Genome-wide expression of the residual lung re...</td>\n",
       "      <td>BACKGROUND: Acute or chronic irreversible resp...</td>\n",
       "      <td>0</td>\n",
       "    </tr>\n",
       "  </tbody>\n",
       "</table>\n",
       "</div>"
      ],
      "text/plain": [
       "       PMID                                              Title  \\\n",
       "0  34902587  Detection of porcine circovirus type 3 DNA in ...   \n",
       "1  35451025  Imputation of non-genotyped F1 dams to improve...   \n",
       "2  34859764  Proposed multidimensional pain outcome methodo...   \n",
       "3  35143972  Nanostructured lipid carriers loaded with an a...   \n",
       "4  34872491  Genome-wide expression of the residual lung re...   \n",
       "\n",
       "                                            Abstract  Label  \n",
       "0  Porcine circovirus type 3 (PCV3) is regularly ...      0  \n",
       "1  This study investigated using imputed genotype...      0  \n",
       "2  Castration of male piglets in the United State...      0  \n",
       "3  Alopecia is a condition associated with differ...      0  \n",
       "4  BACKGROUND: Acute or chronic irreversible resp...      0  "
      ]
     },
     "execution_count": 13,
     "metadata": {},
     "output_type": "execute_result"
    }
   ],
   "source": [
    "# Define file path\n",
    "file_name = \"test_unlabeled.tsv\"\n",
    "final_path = os.path.join(file_path, file_name) \n",
    "\n",
    "# Load tsv file\n",
    "inference_batch = pd.read_csv(final_path, sep='\\t')\n",
    "print(f\"The inference batch has {inference_batch.shape[0]} observations and {inference_batch.shape[1]} columns.\")\n",
    "inference_batch.head()"
   ]
  },
  {
   "cell_type": "markdown",
   "metadata": {},
   "source": [
    "### Training Corpus"
   ]
  },
  {
   "cell_type": "code",
   "execution_count": null,
   "metadata": {},
   "outputs": [
    {
     "name": "stdout",
     "output_type": "stream",
     "text": [
      "Shape of the original dataset: (11278, 4) \n",
      "\n"
     ]
    },
    {
     "data": {
      "text/html": [
       "<div>\n",
       "<style scoped>\n",
       "    .dataframe tbody tr th:only-of-type {\n",
       "        vertical-align: middle;\n",
       "    }\n",
       "\n",
       "    .dataframe tbody tr th {\n",
       "        vertical-align: top;\n",
       "    }\n",
       "\n",
       "    .dataframe thead th {\n",
       "        text-align: right;\n",
       "    }\n",
       "</style>\n",
       "<table border=\"1\" class=\"dataframe\">\n",
       "  <thead>\n",
       "    <tr style=\"text-align: right;\">\n",
       "      <th></th>\n",
       "      <th>PMID</th>\n",
       "      <th>Title</th>\n",
       "      <th>Abstract</th>\n",
       "      <th>Category</th>\n",
       "    </tr>\n",
       "  </thead>\n",
       "  <tbody>\n",
       "    <tr>\n",
       "      <th>0</th>\n",
       "      <td>17179536</td>\n",
       "      <td>Variance component analysis of quantitative tr...</td>\n",
       "      <td>In a previous study, QTL for carcass compositi...</td>\n",
       "      <td>1</td>\n",
       "    </tr>\n",
       "    <tr>\n",
       "      <th>1</th>\n",
       "      <td>17177700</td>\n",
       "      <td>Single nucleotide polymorphism identification,...</td>\n",
       "      <td>Pituitary adenylate cyclase-activating polypep...</td>\n",
       "      <td>0</td>\n",
       "    </tr>\n",
       "    <tr>\n",
       "      <th>2</th>\n",
       "      <td>17129674</td>\n",
       "      <td>Genetic resistance to Sarcocystis miescheriana...</td>\n",
       "      <td>Clinical and parasitological traits of Sarcocy...</td>\n",
       "      <td>0</td>\n",
       "    </tr>\n",
       "    <tr>\n",
       "      <th>3</th>\n",
       "      <td>17121599</td>\n",
       "      <td>Results of a whole-genome quantitative trait l...</td>\n",
       "      <td>A whole-genome quantitative trait locus (QTL) ...</td>\n",
       "      <td>1</td>\n",
       "    </tr>\n",
       "    <tr>\n",
       "      <th>4</th>\n",
       "      <td>17057239</td>\n",
       "      <td>Unexpected high polymorphism at the FABP4 gene...</td>\n",
       "      <td>Fatty acid bing protein 4 (FABP4) plays a key ...</td>\n",
       "      <td>0</td>\n",
       "    </tr>\n",
       "  </tbody>\n",
       "</table>\n",
       "</div>"
      ],
      "text/plain": [
       "       PMID                                              Title  \\\n",
       "0  17179536  Variance component analysis of quantitative tr...   \n",
       "1  17177700  Single nucleotide polymorphism identification,...   \n",
       "2  17129674  Genetic resistance to Sarcocystis miescheriana...   \n",
       "3  17121599  Results of a whole-genome quantitative trait l...   \n",
       "4  17057239  Unexpected high polymorphism at the FABP4 gene...   \n",
       "\n",
       "                                            Abstract  Category  \n",
       "0  In a previous study, QTL for carcass compositi...         1  \n",
       "1  Pituitary adenylate cyclase-activating polypep...         0  \n",
       "2  Clinical and parasitological traits of Sarcocy...         0  \n",
       "3  A whole-genome quantitative trait locus (QTL) ...         1  \n",
       "4  Fatty acid bing protein 4 (FABP4) plays a key ...         0  "
      ]
     },
     "execution_count": 10,
     "metadata": {},
     "output_type": "execute_result"
    }
   ],
   "source": [
    "# Define file path\n",
    "file_name = \"QTL_text.json\"\n",
    "final_path = os.path.join(file_path, file_name) \n",
    "\n",
    "# Load json file\n",
    "df = pd.read_json(final_path)\n",
    "df = df.drop(columns=['Journal'])\n",
    "print(f\"Shape of the original dataset: {df.shape}\", \"\\n\")\n",
    "df.head()"
   ]
  },
  {
   "cell_type": "markdown",
   "metadata": {},
   "source": [
    "## Exploratory Analysis"
   ]
  },
  {
   "cell_type": "code",
   "execution_count": 15,
   "metadata": {},
   "outputs": [
    {
     "data": {
      "text/plain": [
       "Category\n",
       "0    10271\n",
       "1     1007\n",
       "Name: count, dtype: int64"
      ]
     },
     "execution_count": 15,
     "metadata": {},
     "output_type": "execute_result"
    }
   ],
   "source": [
    "df[\"Category\"].value_counts()"
   ]
  },
  {
   "cell_type": "markdown",
   "metadata": {},
   "source": []
  }
 ],
 "metadata": {
  "kernelspec": {
   "display_name": "nlp_env",
   "language": "python",
   "name": "python3"
  },
  "language_info": {
   "codemirror_mode": {
    "name": "ipython",
    "version": 3
   },
   "file_extension": ".py",
   "mimetype": "text/x-python",
   "name": "python",
   "nbconvert_exporter": "python",
   "pygments_lexer": "ipython3",
   "version": "3.10.16"
  }
 },
 "nbformat": 4,
 "nbformat_minor": 2
}
