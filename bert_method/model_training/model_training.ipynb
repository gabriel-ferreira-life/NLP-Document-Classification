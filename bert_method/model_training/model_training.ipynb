{
 "cells": [
  {
   "cell_type": "markdown",
   "metadata": {},
   "source": [
    "#### Important!! This notebook was set to run in a Kaggle Environment"
   ]
  },
  {
   "cell_type": "markdown",
   "metadata": {},
   "source": [
    "## Libraries"
   ]
  },
  {
   "cell_type": "code",
   "execution_count": null,
   "metadata": {
    "execution": {
     "iopub.execute_input": "2025-03-25T02:08:11.224983Z",
     "iopub.status.busy": "2025-03-25T02:08:11.224704Z",
     "iopub.status.idle": "2025-03-25T02:08:20.788477Z",
     "shell.execute_reply": "2025-03-25T02:08:20.787803Z",
     "shell.execute_reply.started": "2025-03-25T02:08:11.224953Z"
    },
    "trusted": true
   },
   "outputs": [],
   "source": [
    "\n",
    "import json\n",
    "import pandas as pd\n",
    "import numpy as np\n",
    "import os\n",
    "import matplotlib.pyplot as plt\n",
    "import wandb\n",
    "wandb.init(project=\"my_project_name\", mode=\"disabled\")"
   ]
  },
  {
   "cell_type": "markdown",
   "metadata": {},
   "source": [
    "## Config"
   ]
  },
  {
   "cell_type": "code",
   "execution_count": null,
   "metadata": {
    "execution": {
     "iopub.execute_input": "2025-03-25T02:08:20.789753Z",
     "iopub.status.busy": "2025-03-25T02:08:20.789296Z",
     "iopub.status.idle": "2025-03-25T02:08:25.398684Z",
     "shell.execute_reply": "2025-03-25T02:08:25.397652Z",
     "shell.execute_reply.started": "2025-03-25T02:08:20.789728Z"
    },
    "trusted": true
   },
   "outputs": [],
   "source": [
    "!pip install evaluate\n",
    "!pip install wandb"
   ]
  },
  {
   "cell_type": "code",
   "execution_count": null,
   "metadata": {
    "execution": {
     "iopub.execute_input": "2025-03-25T02:08:25.400058Z",
     "iopub.status.busy": "2025-03-25T02:08:25.399732Z",
     "iopub.status.idle": "2025-03-25T02:08:49.787536Z",
     "shell.execute_reply": "2025-03-25T02:08:49.786739Z",
     "shell.execute_reply.started": "2025-03-25T02:08:25.400031Z"
    },
    "trusted": true
   },
   "outputs": [],
   "source": [
    "import torch\n",
    "import torch.nn as nn\n",
    "from datasets import DatasetDict, Dataset, load_dataset\n",
    "from transformers import AutoTokenizer, AutoModelForSequenceClassification, TrainingArguments, Trainer, DataCollatorWithPadding\n",
    "from sklearn.model_selection import train_test_split, cross_val_score\n",
    "from sklearn.metrics import f1_score, roc_auc_score, precision_score, accuracy_score, recall_score\n",
    "from sklearn.utils.class_weight import compute_class_weight\n",
    "import evaluate"
   ]
  },
  {
   "cell_type": "markdown",
   "metadata": {},
   "source": [
    " ## Datasets"
   ]
  },
  {
   "cell_type": "markdown",
   "metadata": {},
   "source": [
    "### Inference batch"
   ]
  },
  {
   "cell_type": "code",
   "execution_count": null,
   "metadata": {
    "execution": {
     "iopub.execute_input": "2025-03-25T02:08:49.811445Z",
     "iopub.status.busy": "2025-03-25T02:08:49.811219Z",
     "iopub.status.idle": "2025-03-25T02:08:49.955451Z",
     "shell.execute_reply": "2025-03-25T02:08:49.954722Z",
     "shell.execute_reply.started": "2025-03-25T02:08:49.811425Z"
    },
    "trusted": true
   },
   "outputs": [
    {
     "name": "stdout",
     "output_type": "stream",
     "text": [
      "The inference batch has 1097 observations and 4 columns.\n"
     ]
    },
    {
     "data": {
      "text/html": [
       "<div>\n",
       "<style scoped>\n",
       "    .dataframe tbody tr th:only-of-type {\n",
       "        vertical-align: middle;\n",
       "    }\n",
       "\n",
       "    .dataframe tbody tr th {\n",
       "        vertical-align: top;\n",
       "    }\n",
       "\n",
       "    .dataframe thead th {\n",
       "        text-align: right;\n",
       "    }\n",
       "</style>\n",
       "<table border=\"1\" class=\"dataframe\">\n",
       "  <thead>\n",
       "    <tr style=\"text-align: right;\">\n",
       "      <th></th>\n",
       "      <th>PMID</th>\n",
       "      <th>Title</th>\n",
       "      <th>Abstract</th>\n",
       "      <th>Label</th>\n",
       "    </tr>\n",
       "  </thead>\n",
       "  <tbody>\n",
       "    <tr>\n",
       "      <th>0</th>\n",
       "      <td>34902587</td>\n",
       "      <td>Detection of porcine circovirus type 3 DNA in ...</td>\n",
       "      <td>Porcine circovirus type 3 (PCV3) is regularly ...</td>\n",
       "      <td>0</td>\n",
       "    </tr>\n",
       "    <tr>\n",
       "      <th>1</th>\n",
       "      <td>35451025</td>\n",
       "      <td>Imputation of non-genotyped F1 dams to improve...</td>\n",
       "      <td>This study investigated using imputed genotype...</td>\n",
       "      <td>0</td>\n",
       "    </tr>\n",
       "    <tr>\n",
       "      <th>2</th>\n",
       "      <td>34859764</td>\n",
       "      <td>Proposed multidimensional pain outcome methodo...</td>\n",
       "      <td>Castration of male piglets in the United State...</td>\n",
       "      <td>0</td>\n",
       "    </tr>\n",
       "    <tr>\n",
       "      <th>3</th>\n",
       "      <td>35143972</td>\n",
       "      <td>Nanostructured lipid carriers loaded with an a...</td>\n",
       "      <td>Alopecia is a condition associated with differ...</td>\n",
       "      <td>0</td>\n",
       "    </tr>\n",
       "    <tr>\n",
       "      <th>4</th>\n",
       "      <td>34872491</td>\n",
       "      <td>Genome-wide expression of the residual lung re...</td>\n",
       "      <td>BACKGROUND: Acute or chronic irreversible resp...</td>\n",
       "      <td>0</td>\n",
       "    </tr>\n",
       "  </tbody>\n",
       "</table>\n",
       "</div>"
      ],
      "text/plain": [
       "       PMID                                              Title  \\\n",
       "0  34902587  Detection of porcine circovirus type 3 DNA in ...   \n",
       "1  35451025  Imputation of non-genotyped F1 dams to improve...   \n",
       "2  34859764  Proposed multidimensional pain outcome methodo...   \n",
       "3  35143972  Nanostructured lipid carriers loaded with an a...   \n",
       "4  34872491  Genome-wide expression of the residual lung re...   \n",
       "\n",
       "                                            Abstract  Label  \n",
       "0  Porcine circovirus type 3 (PCV3) is regularly ...      0  \n",
       "1  This study investigated using imputed genotype...      0  \n",
       "2  Castration of male piglets in the United State...      0  \n",
       "3  Alopecia is a condition associated with differ...      0  \n",
       "4  BACKGROUND: Acute or chronic irreversible resp...      0  "
      ]
     },
     "execution_count": 5,
     "metadata": {},
     "output_type": "execute_result"
    }
   ],
   "source": [
    "# Define file path\n",
    "file_name = \"test_unlabeled.tsv\"\n",
    "final_path = os.path.join(\"/kaggle/input/579nlp-project2\", file_name) \n",
    "\n",
    "# Load tsv file\n",
    "inference_batch = pd.read_csv(final_path, sep='\\t')\n",
    "print(f\"The inference batch has {inference_batch.shape[0]} observations and {inference_batch.shape[1]} columns.\")\n",
    "inference_batch.head()"
   ]
  },
  {
   "cell_type": "markdown",
   "metadata": {},
   "source": [
    "### Training Corpus"
   ]
  },
  {
   "cell_type": "code",
   "execution_count": null,
   "metadata": {
    "execution": {
     "iopub.execute_input": "2025-03-25T02:08:49.956525Z",
     "iopub.status.busy": "2025-03-25T02:08:49.956254Z",
     "iopub.status.idle": "2025-03-25T02:08:50.579382Z",
     "shell.execute_reply": "2025-03-25T02:08:50.578717Z",
     "shell.execute_reply.started": "2025-03-25T02:08:49.956491Z"
    },
    "trusted": true
   },
   "outputs": [
    {
     "name": "stdout",
     "output_type": "stream",
     "text": [
      "Shape of the original dataset: (11278, 4) \n",
      "\n"
     ]
    },
    {
     "data": {
      "text/html": [
       "<div>\n",
       "<style scoped>\n",
       "    .dataframe tbody tr th:only-of-type {\n",
       "        vertical-align: middle;\n",
       "    }\n",
       "\n",
       "    .dataframe tbody tr th {\n",
       "        vertical-align: top;\n",
       "    }\n",
       "\n",
       "    .dataframe thead th {\n",
       "        text-align: right;\n",
       "    }\n",
       "</style>\n",
       "<table border=\"1\" class=\"dataframe\">\n",
       "  <thead>\n",
       "    <tr style=\"text-align: right;\">\n",
       "      <th></th>\n",
       "      <th>PMID</th>\n",
       "      <th>Title</th>\n",
       "      <th>Abstract</th>\n",
       "      <th>Category</th>\n",
       "    </tr>\n",
       "  </thead>\n",
       "  <tbody>\n",
       "    <tr>\n",
       "      <th>0</th>\n",
       "      <td>17179536</td>\n",
       "      <td>Variance component analysis of quantitative tr...</td>\n",
       "      <td>In a previous study, QTL for carcass compositi...</td>\n",
       "      <td>1</td>\n",
       "    </tr>\n",
       "    <tr>\n",
       "      <th>1</th>\n",
       "      <td>17177700</td>\n",
       "      <td>Single nucleotide polymorphism identification,...</td>\n",
       "      <td>Pituitary adenylate cyclase-activating polypep...</td>\n",
       "      <td>0</td>\n",
       "    </tr>\n",
       "    <tr>\n",
       "      <th>2</th>\n",
       "      <td>17129674</td>\n",
       "      <td>Genetic resistance to Sarcocystis miescheriana...</td>\n",
       "      <td>Clinical and parasitological traits of Sarcocy...</td>\n",
       "      <td>0</td>\n",
       "    </tr>\n",
       "    <tr>\n",
       "      <th>3</th>\n",
       "      <td>17121599</td>\n",
       "      <td>Results of a whole-genome quantitative trait l...</td>\n",
       "      <td>A whole-genome quantitative trait locus (QTL) ...</td>\n",
       "      <td>1</td>\n",
       "    </tr>\n",
       "    <tr>\n",
       "      <th>4</th>\n",
       "      <td>17057239</td>\n",
       "      <td>Unexpected high polymorphism at the FABP4 gene...</td>\n",
       "      <td>Fatty acid bing protein 4 (FABP4) plays a key ...</td>\n",
       "      <td>0</td>\n",
       "    </tr>\n",
       "  </tbody>\n",
       "</table>\n",
       "</div>"
      ],
      "text/plain": [
       "       PMID                                              Title  \\\n",
       "0  17179536  Variance component analysis of quantitative tr...   \n",
       "1  17177700  Single nucleotide polymorphism identification,...   \n",
       "2  17129674  Genetic resistance to Sarcocystis miescheriana...   \n",
       "3  17121599  Results of a whole-genome quantitative trait l...   \n",
       "4  17057239  Unexpected high polymorphism at the FABP4 gene...   \n",
       "\n",
       "                                            Abstract  Category  \n",
       "0  In a previous study, QTL for carcass compositi...         1  \n",
       "1  Pituitary adenylate cyclase-activating polypep...         0  \n",
       "2  Clinical and parasitological traits of Sarcocy...         0  \n",
       "3  A whole-genome quantitative trait locus (QTL) ...         1  \n",
       "4  Fatty acid bing protein 4 (FABP4) plays a key ...         0  "
      ]
     },
     "execution_count": 6,
     "metadata": {},
     "output_type": "execute_result"
    }
   ],
   "source": [
    "# Define file path\n",
    "file_name = \"QTL_text.json\"\n",
    "final_path = os.path.join(\"/kaggle/input/579nlp-project2\", file_name) \n",
    "\n",
    "# Load json file\n",
    "df = pd.read_json(final_path)\n",
    "df = df.drop(columns=['Journal'])\n",
    "print(f\"Shape of the original dataset: {df.shape}\", \"\\n\")\n",
    "df.head()"
   ]
  },
  {
   "cell_type": "markdown",
   "metadata": {},
   "source": [
    "## Modeling Exploratory"
   ]
  },
  {
   "cell_type": "markdown",
   "metadata": {},
   "source": [
    "### Pre-Processing"
   ]
  },
  {
   "cell_type": "code",
   "execution_count": null,
   "metadata": {
    "execution": {
     "iopub.execute_input": "2025-03-25T02:08:50.580552Z",
     "iopub.status.busy": "2025-03-25T02:08:50.580255Z",
     "iopub.status.idle": "2025-03-25T02:08:50.615483Z",
     "shell.execute_reply": "2025-03-25T02:08:50.614606Z",
     "shell.execute_reply.started": "2025-03-25T02:08:50.580523Z"
    },
    "trusted": true
   },
   "outputs": [
    {
     "name": "stdout",
     "output_type": "stream",
     "text": [
      "(11278, 4)\n"
     ]
    },
    {
     "data": {
      "text/html": [
       "<div>\n",
       "<style scoped>\n",
       "    .dataframe tbody tr th:only-of-type {\n",
       "        vertical-align: middle;\n",
       "    }\n",
       "\n",
       "    .dataframe tbody tr th {\n",
       "        vertical-align: top;\n",
       "    }\n",
       "\n",
       "    .dataframe thead th {\n",
       "        text-align: right;\n",
       "    }\n",
       "</style>\n",
       "<table border=\"1\" class=\"dataframe\">\n",
       "  <thead>\n",
       "    <tr style=\"text-align: right;\">\n",
       "      <th></th>\n",
       "      <th>PMID</th>\n",
       "      <th>Title</th>\n",
       "      <th>Abstract</th>\n",
       "      <th>Category</th>\n",
       "      <th>Title_Abstract</th>\n",
       "    </tr>\n",
       "  </thead>\n",
       "  <tbody>\n",
       "    <tr>\n",
       "      <th>0</th>\n",
       "      <td>17179536</td>\n",
       "      <td>Variance component analysis of quantitative tr...</td>\n",
       "      <td>In a previous study, QTL for carcass compositi...</td>\n",
       "      <td>1</td>\n",
       "      <td>Variance component analysis of quantitative tr...</td>\n",
       "    </tr>\n",
       "    <tr>\n",
       "      <th>1</th>\n",
       "      <td>17177700</td>\n",
       "      <td>Single nucleotide polymorphism identification,...</td>\n",
       "      <td>Pituitary adenylate cyclase-activating polypep...</td>\n",
       "      <td>0</td>\n",
       "      <td>Single nucleotide polymorphism identification,...</td>\n",
       "    </tr>\n",
       "    <tr>\n",
       "      <th>2</th>\n",
       "      <td>17129674</td>\n",
       "      <td>Genetic resistance to Sarcocystis miescheriana...</td>\n",
       "      <td>Clinical and parasitological traits of Sarcocy...</td>\n",
       "      <td>0</td>\n",
       "      <td>Genetic resistance to Sarcocystis miescheriana...</td>\n",
       "    </tr>\n",
       "    <tr>\n",
       "      <th>3</th>\n",
       "      <td>17121599</td>\n",
       "      <td>Results of a whole-genome quantitative trait l...</td>\n",
       "      <td>A whole-genome quantitative trait locus (QTL) ...</td>\n",
       "      <td>1</td>\n",
       "      <td>Results of a whole-genome quantitative trait l...</td>\n",
       "    </tr>\n",
       "    <tr>\n",
       "      <th>4</th>\n",
       "      <td>17057239</td>\n",
       "      <td>Unexpected high polymorphism at the FABP4 gene...</td>\n",
       "      <td>Fatty acid bing protein 4 (FABP4) plays a key ...</td>\n",
       "      <td>0</td>\n",
       "      <td>Unexpected high polymorphism at the FABP4 gene...</td>\n",
       "    </tr>\n",
       "  </tbody>\n",
       "</table>\n",
       "</div>"
      ],
      "text/plain": [
       "       PMID                                              Title  \\\n",
       "0  17179536  Variance component analysis of quantitative tr...   \n",
       "1  17177700  Single nucleotide polymorphism identification,...   \n",
       "2  17129674  Genetic resistance to Sarcocystis miescheriana...   \n",
       "3  17121599  Results of a whole-genome quantitative trait l...   \n",
       "4  17057239  Unexpected high polymorphism at the FABP4 gene...   \n",
       "\n",
       "                                            Abstract  Category  \\\n",
       "0  In a previous study, QTL for carcass compositi...         1   \n",
       "1  Pituitary adenylate cyclase-activating polypep...         0   \n",
       "2  Clinical and parasitological traits of Sarcocy...         0   \n",
       "3  A whole-genome quantitative trait locus (QTL) ...         1   \n",
       "4  Fatty acid bing protein 4 (FABP4) plays a key ...         0   \n",
       "\n",
       "                                      Title_Abstract  \n",
       "0  Variance component analysis of quantitative tr...  \n",
       "1  Single nucleotide polymorphism identification,...  \n",
       "2  Genetic resistance to Sarcocystis miescheriana...  \n",
       "3  Results of a whole-genome quantitative trait l...  \n",
       "4  Unexpected high polymorphism at the FABP4 gene...  "
      ]
     },
     "execution_count": 7,
     "metadata": {},
     "output_type": "execute_result"
    }
   ],
   "source": [
    "df_test = df.copy()\n",
    "df_test['Title_Abstract'] = df_test['Title'] + \" \" + df_test['Abstract']\n",
    "print(df.shape)\n",
    "df_test.head()"
   ]
  },
  {
   "cell_type": "markdown",
   "metadata": {},
   "source": [
    "#### Stopwords"
   ]
  },
  {
   "cell_type": "code",
   "execution_count": null,
   "metadata": {
    "execution": {
     "iopub.execute_input": "2025-03-24T18:18:58.930058Z",
     "iopub.status.busy": "2025-03-24T18:18:58.929840Z",
     "iopub.status.idle": "2025-03-24T18:18:58.942998Z",
     "shell.execute_reply": "2025-03-24T18:18:58.942258Z",
     "shell.execute_reply.started": "2025-03-24T18:18:58.930039Z"
    },
    "trusted": true
   },
   "outputs": [],
   "source": [
    "# pip install nltk"
   ]
  },
  {
   "cell_type": "code",
   "execution_count": null,
   "metadata": {
    "execution": {
     "iopub.execute_input": "2025-03-24T18:18:58.944106Z",
     "iopub.status.busy": "2025-03-24T18:18:58.943849Z",
     "iopub.status.idle": "2025-03-24T18:18:58.956850Z",
     "shell.execute_reply": "2025-03-24T18:18:58.956094Z",
     "shell.execute_reply.started": "2025-03-24T18:18:58.944079Z"
    },
    "trusted": true
   },
   "outputs": [],
   "source": [
    "# import nltk\n",
    "# from nltk.corpus import stopwords\n",
    "# nltk.download(\"stopwords\")\n",
    "# stop_words = set(stopwords.words(\"english\"))\n",
    "\n",
    "# df_test[\"Title_Abstract\"] = df_test[\"Title_Abstract\"].apply(lambda x: \" \".join([word for word in x.split() if word.lower() not in stop_words]))"
   ]
  },
  {
   "cell_type": "markdown",
   "metadata": {},
   "source": [
    "#### Punctuation"
   ]
  },
  {
   "cell_type": "code",
   "execution_count": null,
   "metadata": {
    "execution": {
     "iopub.execute_input": "2025-03-24T18:18:58.957806Z",
     "iopub.status.busy": "2025-03-24T18:18:58.957543Z",
     "iopub.status.idle": "2025-03-24T18:18:58.970403Z",
     "shell.execute_reply": "2025-03-24T18:18:58.969632Z",
     "shell.execute_reply.started": "2025-03-24T18:18:58.957780Z"
    },
    "trusted": true
   },
   "outputs": [],
   "source": [
    "# import re\n",
    "\n",
    "# # Define a regex string to match punctuation\n",
    "# regex = r\"[^\\w\\s]|_\"\n",
    "\n",
    "# # Define a lambda function \n",
    "# remove_punct = lambda text: re.sub(regex, \" \", text)\n",
    "\n",
    "# # Apply the remove_punct function to the column\n",
    "# df_test[\"Title_Abstract\"] = df_test[\"Title_Abstract\"].apply(remove_punct)"
   ]
  },
  {
   "cell_type": "markdown",
   "metadata": {},
   "source": [
    "### Train-Test Split"
   ]
  },
  {
   "cell_type": "code",
   "execution_count": null,
   "metadata": {
    "execution": {
     "iopub.execute_input": "2025-03-25T02:09:37.286167Z",
     "iopub.status.busy": "2025-03-25T02:09:37.285835Z",
     "iopub.status.idle": "2025-03-25T02:09:37.305240Z",
     "shell.execute_reply": "2025-03-25T02:09:37.304379Z",
     "shell.execute_reply.started": "2025-03-25T02:09:37.286143Z"
    },
    "trusted": true
   },
   "outputs": [],
   "source": [
    "# Define predictor and target features\n",
    "X = df_test.drop(columns=['Category'])\n",
    "y = df_test['Category']\n",
    "\n",
    "# Split train and validation\n",
    "X_train, X_val, y_train, y_val = train_test_split(X,y, test_size=.2, shuffle=True, random_state=42, stratify=y)"
   ]
  },
  {
   "cell_type": "code",
   "execution_count": null,
   "metadata": {
    "execution": {
     "iopub.execute_input": "2025-03-25T02:09:50.773026Z",
     "iopub.status.busy": "2025-03-25T02:09:50.772710Z",
     "iopub.status.idle": "2025-03-25T02:09:51.009876Z",
     "shell.execute_reply": "2025-03-25T02:09:51.009125Z",
     "shell.execute_reply.started": "2025-03-25T02:09:50.773004Z"
    },
    "trusted": true
   },
   "outputs": [
    {
     "data": {
      "text/plain": [
       "DatasetDict({\n",
       "    train: Dataset({\n",
       "        features: ['text', 'labels'],\n",
       "        num_rows: 9022\n",
       "    })\n",
       "    validation: Dataset({\n",
       "        features: ['text', 'labels'],\n",
       "        num_rows: 2256\n",
       "    })\n",
       "})"
      ]
     },
     "execution_count": 9,
     "metadata": {},
     "output_type": "execute_result"
    }
   ],
   "source": [
    "# Training Data\n",
    "train_data = {\"text\": X_train['Title_Abstract'], \"labels\": y_train}\n",
    "train_dataset = Dataset.from_dict(train_data)\n",
    "\n",
    "# Validation Data\n",
    "val_data = {\"text\": X_val['Title_Abstract'], \"labels\": y_val}\n",
    "val_dataset = Dataset.from_dict(val_data)\n",
    "\n",
    "# # Test Data\n",
    "# test_data = {\"text\": X_test['Title_Abstract'], \"labels\": y_test}\n",
    "# test_dataset = Dataset.from_dict(test_data)\n",
    "\n",
    "dataset_dict = DatasetDict({\n",
    "    \"train\": train_dataset,\n",
    "    \"validation\": val_dataset,\n",
    "    # \"test\": test_dataset\n",
    "})\n",
    "\n",
    "dataset_dict"
   ]
  },
  {
   "cell_type": "markdown",
   "metadata": {},
   "source": [
    "### Load Pre-Trained Model"
   ]
  },
  {
   "cell_type": "markdown",
   "metadata": {},
   "source": [
    "#### Fine-Tune From Scratch"
   ]
  },
  {
   "cell_type": "code",
   "execution_count": null,
   "metadata": {
    "execution": {
     "iopub.execute_input": "2025-03-25T02:10:07.052722Z",
     "iopub.status.busy": "2025-03-25T02:10:07.052398Z",
     "iopub.status.idle": "2025-03-25T02:10:12.012275Z",
     "shell.execute_reply": "2025-03-25T02:10:12.011603Z",
     "shell.execute_reply.started": "2025-03-25T02:10:07.052697Z"
    },
    "trusted": true
   },
   "outputs": [],
   "source": [
    "# Define pre-trained model path\n",
    "model_path = \"google-bert/bert-base-uncased\"\n",
    "\n",
    "# Load model tokeninzer\n",
    "tokenizer = AutoTokenizer.from_pretrained(model_path)\n",
    "\n",
    "# Load model with binary classification head\n",
    "model = AutoModelForSequenceClassification.from_pretrained(model_path,\n",
    "                                                           num_labels=2,)"
   ]
  },
  {
   "cell_type": "markdown",
   "metadata": {},
   "source": [
    "#### Fine-Tune From a Checkpoint"
   ]
  },
  {
   "cell_type": "code",
   "execution_count": null,
   "metadata": {
    "execution": {
     "iopub.execute_input": "2025-03-24T02:43:26.467921Z",
     "iopub.status.busy": "2025-03-24T02:43:26.467612Z",
     "iopub.status.idle": "2025-03-24T02:43:27.718074Z",
     "shell.execute_reply": "2025-03-24T02:43:27.717094Z",
     "shell.execute_reply.started": "2025-03-24T02:43:26.467898Z"
    },
    "trusted": true
   },
   "outputs": [],
   "source": [
    "# !cp -r /kaggle/input/checkpoint-14432 /kaggle/working/experiment_outputs/ # Move dataset to the working session"
   ]
  },
  {
   "cell_type": "code",
   "execution_count": null,
   "metadata": {
    "execution": {
     "iopub.execute_input": "2025-03-24T02:43:28.534749Z",
     "iopub.status.busy": "2025-03-24T02:43:28.534446Z",
     "iopub.status.idle": "2025-03-24T02:43:29.153195Z",
     "shell.execute_reply": "2025-03-24T02:43:29.152387Z",
     "shell.execute_reply.started": "2025-03-24T02:43:28.534725Z"
    },
    "trusted": true
   },
   "outputs": [],
   "source": [
    "# # Define pre-trained model path\n",
    "# model_path = \"experiment_outputs/checkpoint-14432\"\n",
    "\n",
    "# # Load model tokeninzer\n",
    "# tokenizer = AutoTokenizer.from_pretrained(model_path)\n",
    "\n",
    "# # Load model with binary classification head\n",
    "# model = AutoModelForSequenceClassification.from_pretrained(model_path,\n",
    "#                                                            num_labels=2,)"
   ]
  },
  {
   "cell_type": "markdown",
   "metadata": {},
   "source": [
    "#### Use BERT Tokenizer to Pre-Process the Data"
   ]
  },
  {
   "cell_type": "code",
   "execution_count": null,
   "metadata": {
    "execution": {
     "iopub.execute_input": "2025-03-25T02:10:20.291122Z",
     "iopub.status.busy": "2025-03-25T02:10:20.290833Z",
     "iopub.status.idle": "2025-03-25T02:10:27.360834Z",
     "shell.execute_reply": "2025-03-25T02:10:27.360155Z",
     "shell.execute_reply.started": "2025-03-25T02:10:20.291101Z"
    },
    "trusted": true
   },
   "outputs": [],
   "source": [
    "# Define text preprocessing\n",
    "def preprocess_function(examples):\n",
    "    # Return tokenized text with truncation\n",
    "    return tokenizer(\n",
    "        examples['text'], \n",
    "        truncation=True) # Truncate abstracts greater than 512 tokens\n",
    "\n",
    "# Preprocess all datasets\n",
    "tokenized_data = dataset_dict.map(preprocess_function, batched=True)\n",
    "\n",
    "# Create data collator\n",
    "data_collator = DataCollatorWithPadding(tokenizer=tokenizer) # Uniform sample lenght"
   ]
  },
  {
   "cell_type": "markdown",
   "metadata": {},
   "source": [
    "#### Put Model in CUDA Mode"
   ]
  },
  {
   "cell_type": "code",
   "execution_count": null,
   "metadata": {
    "execution": {
     "iopub.execute_input": "2025-03-25T02:10:27.973255Z",
     "iopub.status.busy": "2025-03-25T02:10:27.972957Z",
     "iopub.status.idle": "2025-03-25T02:10:28.036947Z",
     "shell.execute_reply": "2025-03-25T02:10:28.036112Z",
     "shell.execute_reply.started": "2025-03-25T02:10:27.973230Z"
    },
    "trusted": true
   },
   "outputs": [
    {
     "name": "stdout",
     "output_type": "stream",
     "text": [
      "True\n"
     ]
    }
   ],
   "source": [
    "\n",
    "print(torch.cuda.is_available())\n"
   ]
  },
  {
   "cell_type": "code",
   "execution_count": null,
   "metadata": {
    "execution": {
     "iopub.execute_input": "2025-03-25T02:10:28.162321Z",
     "iopub.status.busy": "2025-03-25T02:10:28.162102Z",
     "iopub.status.idle": "2025-03-25T02:10:28.522267Z",
     "shell.execute_reply": "2025-03-25T02:10:28.521559Z",
     "shell.execute_reply.started": "2025-03-25T02:10:28.162303Z"
    },
    "trusted": true
   },
   "outputs": [],
   "source": [
    "model = model.to('cuda')"
   ]
  },
  {
   "cell_type": "markdown",
   "metadata": {},
   "source": [
    "### Define Evaluation Metrics "
   ]
  },
  {
   "cell_type": "code",
   "execution_count": null,
   "metadata": {
    "execution": {
     "iopub.execute_input": "2025-03-25T02:10:36.417647Z",
     "iopub.status.busy": "2025-03-25T02:10:36.417244Z",
     "iopub.status.idle": "2025-03-25T02:10:36.425400Z",
     "shell.execute_reply": "2025-03-25T02:10:36.424608Z",
     "shell.execute_reply.started": "2025-03-25T02:10:36.417597Z"
    },
    "trusted": true
   },
   "outputs": [],
   "source": [
    "def compute_metrics(eval_pred):\n",
    "    logits, labels = eval_pred\n",
    "    # Convert logits to probabilities using softmax for two-class classification.\n",
    "    probs = torch.softmax(torch.tensor(logits), dim=1).numpy()\n",
    "    # Convert to 1D binary predictions by taking the probability of the positive class and thresholding.\n",
    "    threshold = 0.4  # adjust as needed\n",
    "    preds = (probs[:, 1] > threshold).astype(int)\n",
    "    \n",
    "    # Ensure labels are 1D\n",
    "    labels = labels.flatten() if labels.ndim > 1 else labels\n",
    "    \n",
    "    # Compute metrics\n",
    "    f1 = f1_score(labels, preds, average=\"binary\")  # This is a binary F1, not macro.\n",
    "    auc = roc_auc_score(labels, probs[:, 1])\n",
    "    precision = precision_score(labels, preds, average=\"binary\")\n",
    "    accuracy = accuracy_score(labels, preds)\n",
    "    recall = recall_score(labels, preds, average=\"binary\")\n",
    "    \n",
    "    return {\"f1_harmonic\": f1, \"recall\": recall, \"precision\": precision, \"accuracy\": accuracy, \"auc\": auc}"
   ]
  },
  {
   "cell_type": "markdown",
   "metadata": {},
   "source": [
    "### Training Parameters"
   ]
  },
  {
   "cell_type": "code",
   "execution_count": null,
   "metadata": {
    "execution": {
     "iopub.execute_input": "2025-03-25T02:10:46.185384Z",
     "iopub.status.busy": "2025-03-25T02:10:46.185100Z",
     "iopub.status.idle": "2025-03-25T02:10:46.224574Z",
     "shell.execute_reply": "2025-03-25T02:10:46.223957Z",
     "shell.execute_reply.started": "2025-03-25T02:10:46.185363Z"
    },
    "trusted": true
   },
   "outputs": [
    {
     "name": "stdout",
     "output_type": "stream",
     "text": [
      "Class weights: tensor([0.5491, 5.5968])\n"
     ]
    }
   ],
   "source": [
    "train_labels = np.array(train_dataset[\"labels\"])\n",
    "\n",
    "# Compute weights. \n",
    "class_weights = compute_class_weight(class_weight=\"balanced\", classes=np.unique(train_labels), y=train_labels)\n",
    "class_weights = torch.tensor(class_weights, dtype=torch.float)\n",
    "# class_weights = torch.tensor([1.5490, 3.0], dtype=torch.float)\n",
    "\n",
    "print(\"Class weights:\", class_weights)"
   ]
  },
  {
   "cell_type": "code",
   "execution_count": null,
   "metadata": {
    "execution": {
     "iopub.execute_input": "2025-03-25T02:10:49.810781Z",
     "iopub.status.busy": "2025-03-25T02:10:49.810452Z",
     "iopub.status.idle": "2025-03-25T02:10:49.815943Z",
     "shell.execute_reply": "2025-03-25T02:10:49.814953Z",
     "shell.execute_reply.started": "2025-03-25T02:10:49.810756Z"
    },
    "trusted": true
   },
   "outputs": [],
   "source": [
    "class WeightedLossTrainer(Trainer):\n",
    "    def compute_loss(self, model, inputs, return_outputs=False, **kwargs):\n",
    "        labels = inputs.get(\"labels\")\n",
    "        outputs = model(**inputs)\n",
    "        logits = outputs.get(\"logits\")\n",
    "        # Use weighted CrossEntropyLoss\n",
    "        loss_fct = nn.CrossEntropyLoss(weight=class_weights.to(logits.device))\n",
    "        loss = loss_fct(logits.view(-1, self.model.config.num_labels), labels.view(-1))\n",
    "        return (loss, outputs) if return_outputs else loss\n"
   ]
  },
  {
   "cell_type": "markdown",
   "metadata": {
    "execution": {
     "iopub.execute_input": "2025-03-20T03:47:21.748650Z",
     "iopub.status.busy": "2025-03-20T03:47:21.748245Z",
     "iopub.status.idle": "2025-03-20T03:47:22.221259Z",
     "shell.execute_reply": "2025-03-20T03:47:22.219934Z",
     "shell.execute_reply.started": "2025-03-20T03:47:21.748609Z"
    }
   },
   "source": [
    "###  Define Hyper-Parameters & Fine-Tune Model"
   ]
  },
  {
   "cell_type": "code",
   "execution_count": null,
   "metadata": {
    "execution": {
     "iopub.execute_input": "2025-03-25T04:10:21.449218Z",
     "iopub.status.busy": "2025-03-25T04:10:21.448906Z",
     "iopub.status.idle": "2025-03-25T04:10:21.654916Z",
     "shell.execute_reply": "2025-03-25T04:10:21.653706Z",
     "shell.execute_reply.started": "2025-03-25T04:10:21.449192Z"
    },
    "trusted": true
   },
   "outputs": [],
   "source": [
    "# !rm -rf /kaggle/working/experiment_outputs/checkpoint-564 # Delete a folder or file from the work session"
   ]
  },
  {
   "cell_type": "code",
   "execution_count": null,
   "metadata": {
    "execution": {
     "iopub.execute_input": "2025-03-24T23:07:28.070170Z",
     "iopub.status.busy": "2025-03-24T23:07:28.069819Z",
     "iopub.status.idle": "2025-03-24T23:07:28.074861Z",
     "shell.execute_reply": "2025-03-24T23:07:28.073656Z",
     "shell.execute_reply.started": "2025-03-24T23:07:28.070143Z"
    },
    "trusted": true
   },
   "outputs": [],
   "source": [
    "from transformers import EarlyStoppingCallback"
   ]
  },
  {
   "cell_type": "code",
   "execution_count": null,
   "metadata": {
    "execution": {
     "iopub.execute_input": "2025-03-25T04:59:02.535490Z",
     "iopub.status.busy": "2025-03-25T04:59:02.535188Z",
     "iopub.status.idle": "2025-03-25T05:43:34.429461Z",
     "shell.execute_reply": "2025-03-25T05:43:34.428596Z",
     "shell.execute_reply.started": "2025-03-25T04:59:02.535468Z"
    },
    "trusted": true
   },
   "outputs": [
    {
     "name": "stderr",
     "output_type": "stream",
     "text": [
      "/usr/local/lib/python3.10/dist-packages/transformers/training_args.py:1575: FutureWarning: `evaluation_strategy` is deprecated and will be removed in version 4.46 of 🤗 Transformers. Use `eval_strategy` instead\n",
      "  warnings.warn(\n",
      "<ipython-input-78-cb463a958f53>:25: FutureWarning: `tokenizer` is deprecated and will be removed in version 5.0.0 for `WeightedLossTrainer.__init__`. Use `processing_class` instead.\n",
      "  trainer_weighted = WeightedLossTrainer(\n",
      "/usr/local/lib/python3.10/dist-packages/transformers/trainer.py:3418: FutureWarning: You are using `torch.load` with `weights_only=False` (the current default value), which uses the default pickle module implicitly. It is possible to construct malicious pickle data which will execute arbitrary code during unpickling (See https://github.com/pytorch/pytorch/blob/main/SECURITY.md#untrusted-models for more details). In a future release, the default value for `weights_only` will be flipped to `True`. This limits the functions that could be executed during unpickling. Arbitrary objects will no longer be allowed to be loaded via this mode unless they are explicitly allowlisted by the user via `torch.serialization.add_safe_globals`. We recommend you start setting `weights_only=True` for any use case where you don't have full control of the loaded file. Please open an issue on GitHub for any issues related to this experimental feature.\n",
      "  torch.load(os.path.join(checkpoint, OPTIMIZER_NAME), map_location=map_location)\n",
      "/usr/local/lib/python3.10/dist-packages/transformers/trainer.py:3081: FutureWarning: You are using `torch.load` with `weights_only=False` (the current default value), which uses the default pickle module implicitly. It is possible to construct malicious pickle data which will execute arbitrary code during unpickling (See https://github.com/pytorch/pytorch/blob/main/SECURITY.md#untrusted-models for more details). In a future release, the default value for `weights_only` will be flipped to `True`. This limits the functions that could be executed during unpickling. Arbitrary objects will no longer be allowed to be loaded via this mode unless they are explicitly allowlisted by the user via `torch.serialization.add_safe_globals`. We recommend you start setting `weights_only=True` for any use case where you don't have full control of the loaded file. Please open an issue on GitHub for any issues related to this experimental feature.\n",
      "  checkpoint_rng_state = torch.load(rng_file)\n"
     ]
    },
    {
     "data": {
      "text/html": [
       "\n",
       "    <div>\n",
       "      \n",
       "      <progress value='11280' max='11280' style='width:300px; height:20px; vertical-align: middle;'></progress>\n",
       "      [11280/11280 44:29, Epoch 20/20]\n",
       "    </div>\n",
       "    <table border=\"1\" class=\"dataframe\">\n",
       "  <thead>\n",
       " <tr style=\"text-align: left;\">\n",
       "      <th>Epoch</th>\n",
       "      <th>Training Loss</th>\n",
       "      <th>Validation Loss</th>\n",
       "      <th>F1 Harmonic</th>\n",
       "      <th>Recall</th>\n",
       "      <th>Precision</th>\n",
       "      <th>Accuracy</th>\n",
       "      <th>Auc</th>\n",
       "    </tr>\n",
       "  </thead>\n",
       "  <tbody>\n",
       "    <tr>\n",
       "      <td>16</td>\n",
       "      <td>0.138600</td>\n",
       "      <td>0.214811</td>\n",
       "      <td>0.829694</td>\n",
       "      <td>0.945274</td>\n",
       "      <td>0.739300</td>\n",
       "      <td>0.965426</td>\n",
       "      <td>0.987421</td>\n",
       "    </tr>\n",
       "    <tr>\n",
       "      <td>17</td>\n",
       "      <td>0.137400</td>\n",
       "      <td>0.211397</td>\n",
       "      <td>0.814499</td>\n",
       "      <td>0.950249</td>\n",
       "      <td>0.712687</td>\n",
       "      <td>0.961436</td>\n",
       "      <td>0.988062</td>\n",
       "    </tr>\n",
       "    <tr>\n",
       "      <td>18</td>\n",
       "      <td>0.142400</td>\n",
       "      <td>0.216294</td>\n",
       "      <td>0.817987</td>\n",
       "      <td>0.950249</td>\n",
       "      <td>0.718045</td>\n",
       "      <td>0.962323</td>\n",
       "      <td>0.987997</td>\n",
       "    </tr>\n",
       "    <tr>\n",
       "      <td>19</td>\n",
       "      <td>0.124200</td>\n",
       "      <td>0.221191</td>\n",
       "      <td>0.824295</td>\n",
       "      <td>0.945274</td>\n",
       "      <td>0.730769</td>\n",
       "      <td>0.964096</td>\n",
       "      <td>0.987839</td>\n",
       "    </tr>\n",
       "    <tr>\n",
       "      <td>20</td>\n",
       "      <td>0.117000</td>\n",
       "      <td>0.220263</td>\n",
       "      <td>0.822511</td>\n",
       "      <td>0.945274</td>\n",
       "      <td>0.727969</td>\n",
       "      <td>0.963652</td>\n",
       "      <td>0.987759</td>\n",
       "    </tr>\n",
       "  </tbody>\n",
       "</table><p>"
      ],
      "text/plain": [
       "<IPython.core.display.HTML object>"
      ]
     },
     "metadata": {},
     "output_type": "display_data"
    },
    {
     "name": "stderr",
     "output_type": "stream",
     "text": [
      "Could not locate the best model at experiment_outputs/checkpoint-1128/pytorch_model.bin, if you are running a distributed training on multiple nodes, you should activate `--save_on_each_node`.\n"
     ]
    },
    {
     "data": {
      "text/plain": [
       "TrainOutput(global_step=11280, training_loss=0.03297780151908279, metrics={'train_runtime': 2670.6188, 'train_samples_per_second': 67.565, 'train_steps_per_second': 4.224, 'total_flos': 4.733871908041824e+16, 'train_loss': 0.03297780151908279, 'epoch': 20.0})"
      ]
     },
     "execution_count": 78,
     "metadata": {},
     "output_type": "execute_result"
    }
   ],
   "source": [
    "# Hyperparameters\n",
    "lr = 2e-6\n",
    "batch_size =16\n",
    "num_epochs = 20\n",
    "weight_decay=0.01\n",
    "\n",
    "os.makedirs(\"experiment_outputs\", exist_ok=True)\n",
    "\n",
    "training_args = TrainingArguments(\n",
    "    output_dir=\"experiment_outputs\",\n",
    "    learning_rate=lr,\n",
    "    weight_decay=weight_decay,\n",
    "    per_device_train_batch_size=batch_size,\n",
    "    per_device_eval_batch_size=batch_size,\n",
    "    num_train_epochs=num_epochs,\n",
    "    logging_strategy=\"epoch\",\n",
    "    eval_strategy=\"epoch\",\n",
    "    save_strategy=\"epoch\",\n",
    "    load_best_model_at_end=True,\n",
    "    evaluation_strategy=\"epoch\",\n",
    "    metric_for_best_model=\"eval_loss\",  # Metric to monitor\n",
    "    greater_is_better=False,\n",
    ")\n",
    "\n",
    "trainer_weighted = WeightedLossTrainer(\n",
    "    model=model,\n",
    "    args=training_args,\n",
    "    train_dataset=tokenized_data['train'],\n",
    "    eval_dataset=tokenized_data['validation'],\n",
    "    tokenizer=tokenizer,\n",
    "    data_collator=data_collator,\n",
    "    compute_metrics=compute_metrics,\n",
    ")\n",
    "\n",
    "trainer_weighted.train() # Train from scratch \n",
    "# trainer_weighted.train(resume_from_checkpoint=model_path) # Continue training from a specific checkpoint\n",
    "# trainer_weighted.train(resume_from_checkpoint=True) # Continue training from the latest checkpoint"
   ]
  },
  {
   "cell_type": "markdown",
   "metadata": {},
   "source": [
    "### Test Data"
   ]
  },
  {
   "cell_type": "code",
   "execution_count": null,
   "metadata": {
    "execution": {
     "iopub.execute_input": "2025-03-20T04:55:50.203856Z",
     "iopub.status.busy": "2025-03-20T04:55:50.203514Z",
     "iopub.status.idle": "2025-03-20T04:55:50.607181Z",
     "shell.execute_reply": "2025-03-20T04:55:50.606272Z",
     "shell.execute_reply.started": "2025-03-20T04:55:50.203830Z"
    },
    "trusted": true
   },
   "outputs": [
    {
     "data": {
      "text/html": [],
      "text/plain": [
       "<IPython.core.display.HTML object>"
      ]
     },
     "metadata": {},
     "output_type": "display_data"
    },
    {
     "name": "stdout",
     "output_type": "stream",
     "text": [
      "{'f1': 1.0, 'auc': 1.0, 'precision': 1.0, 'accuracy': 1.0}\n"
     ]
    }
   ],
   "source": [
    "# # Apply model to validation dataset\n",
    "# predictions = trainer_weighted.predict(tokenized_data[\"test\"])\n",
    "\n",
    "# # Extract the logits and labels from the predictions object\n",
    "# logits = predictions.predictions\n",
    "# labels = predictions.label_ids\n",
    "\n",
    "# # Compute metrics\n",
    "# metrics = compute_metrics((logits, labels))\n",
    "# print(metrics)"
   ]
  },
  {
   "cell_type": "markdown",
   "metadata": {},
   "source": [
    "### Save Checkpoint"
   ]
  },
  {
   "cell_type": "code",
   "execution_count": null,
   "metadata": {
    "execution": {
     "iopub.execute_input": "2025-03-25T06:04:31.947834Z",
     "iopub.status.busy": "2025-03-25T06:04:31.947470Z",
     "iopub.status.idle": "2025-03-25T06:05:32.758968Z",
     "shell.execute_reply": "2025-03-25T06:05:32.758140Z",
     "shell.execute_reply.started": "2025-03-25T06:04:31.947807Z"
    },
    "trusted": true
   },
   "outputs": [
    {
     "data": {
      "text/plain": [
       "'/kaggle/working/experiment_outputs/checkpoint-9588.zip'"
      ]
     },
     "execution_count": 100,
     "metadata": {},
     "output_type": "execute_result"
    }
   ],
   "source": [
    "import shutil\n",
    "\n",
    "checkpoint = 'checkpoint-9588'\n",
    "\n",
    "# Compress the checkpoint folder into a zip file.\n",
    "shutil.make_archive(f'/kaggle/working/experiment_outputs/{checkpoint}', 'zip', f'/kaggle/working/experiment_outputs/{checkpoint}')"
   ]
  },
  {
   "cell_type": "code",
   "execution_count": null,
   "metadata": {
    "execution": {
     "iopub.execute_input": "2025-03-25T06:05:32.760249Z",
     "iopub.status.busy": "2025-03-25T06:05:32.759935Z",
     "iopub.status.idle": "2025-03-25T06:05:32.765084Z",
     "shell.execute_reply": "2025-03-25T06:05:32.764390Z",
     "shell.execute_reply.started": "2025-03-25T06:05:32.760226Z"
    },
    "trusted": true
   },
   "outputs": [
    {
     "data": {
      "text/html": [
       "<a href='experiment_outputs/checkpoint-9588.zip' target='_blank'>experiment_outputs/checkpoint-9588.zip</a><br>"
      ],
      "text/plain": [
       "/kaggle/working/experiment_outputs/checkpoint-9588.zip"
      ]
     },
     "execution_count": 101,
     "metadata": {},
     "output_type": "execute_result"
    }
   ],
   "source": [
    "from IPython.display import FileLink, display\n",
    "\n",
    "FileLink(f\"experiment_outputs/{checkpoint}.zip\")"
   ]
  },
  {
   "cell_type": "markdown",
   "metadata": {},
   "source": [
    "### Use Model to Run Predictions on the Inference Data"
   ]
  },
  {
   "cell_type": "code",
   "execution_count": null,
   "metadata": {
    "execution": {
     "iopub.execute_input": "2025-03-25T05:46:28.099291Z",
     "iopub.status.busy": "2025-03-25T05:46:28.099006Z",
     "iopub.status.idle": "2025-03-25T05:46:28.103168Z",
     "shell.execute_reply": "2025-03-25T05:46:28.102142Z",
     "shell.execute_reply.started": "2025-03-25T05:46:28.099270Z"
    },
    "trusted": true
   },
   "outputs": [],
   "source": [
    "import torch\n",
    "torch.cuda.empty_cache()\n"
   ]
  },
  {
   "cell_type": "code",
   "execution_count": null,
   "metadata": {
    "execution": {
     "iopub.execute_input": "2025-03-25T05:46:28.404164Z",
     "iopub.status.busy": "2025-03-25T05:46:28.403883Z",
     "iopub.status.idle": "2025-03-25T05:46:28.417213Z",
     "shell.execute_reply": "2025-03-25T05:46:28.416447Z",
     "shell.execute_reply.started": "2025-03-25T05:46:28.404142Z"
    },
    "trusted": true
   },
   "outputs": [
    {
     "name": "stdout",
     "output_type": "stream",
     "text": [
      "(1097, 5)\n"
     ]
    },
    {
     "data": {
      "text/html": [
       "<div>\n",
       "<style scoped>\n",
       "    .dataframe tbody tr th:only-of-type {\n",
       "        vertical-align: middle;\n",
       "    }\n",
       "\n",
       "    .dataframe tbody tr th {\n",
       "        vertical-align: top;\n",
       "    }\n",
       "\n",
       "    .dataframe thead th {\n",
       "        text-align: right;\n",
       "    }\n",
       "</style>\n",
       "<table border=\"1\" class=\"dataframe\">\n",
       "  <thead>\n",
       "    <tr style=\"text-align: right;\">\n",
       "      <th></th>\n",
       "      <th>PMID</th>\n",
       "      <th>Title</th>\n",
       "      <th>Abstract</th>\n",
       "      <th>Label</th>\n",
       "      <th>Title_Abstract</th>\n",
       "    </tr>\n",
       "  </thead>\n",
       "  <tbody>\n",
       "    <tr>\n",
       "      <th>0</th>\n",
       "      <td>34902587</td>\n",
       "      <td>Detection of porcine circovirus type 3 DNA in ...</td>\n",
       "      <td>Porcine circovirus type 3 (PCV3) is regularly ...</td>\n",
       "      <td>1</td>\n",
       "      <td>Detection of porcine circovirus type 3 DNA in ...</td>\n",
       "    </tr>\n",
       "    <tr>\n",
       "      <th>1</th>\n",
       "      <td>35451025</td>\n",
       "      <td>Imputation of non-genotyped F1 dams to improve...</td>\n",
       "      <td>This study investigated using imputed genotype...</td>\n",
       "      <td>1</td>\n",
       "      <td>Imputation of non-genotyped F1 dams to improve...</td>\n",
       "    </tr>\n",
       "    <tr>\n",
       "      <th>2</th>\n",
       "      <td>34859764</td>\n",
       "      <td>Proposed multidimensional pain outcome methodo...</td>\n",
       "      <td>Castration of male piglets in the United State...</td>\n",
       "      <td>0</td>\n",
       "      <td>Proposed multidimensional pain outcome methodo...</td>\n",
       "    </tr>\n",
       "    <tr>\n",
       "      <th>3</th>\n",
       "      <td>35143972</td>\n",
       "      <td>Nanostructured lipid carriers loaded with an a...</td>\n",
       "      <td>Alopecia is a condition associated with differ...</td>\n",
       "      <td>0</td>\n",
       "      <td>Nanostructured lipid carriers loaded with an a...</td>\n",
       "    </tr>\n",
       "    <tr>\n",
       "      <th>4</th>\n",
       "      <td>34872491</td>\n",
       "      <td>Genome-wide expression of the residual lung re...</td>\n",
       "      <td>BACKGROUND: Acute or chronic irreversible resp...</td>\n",
       "      <td>1</td>\n",
       "      <td>Genome-wide expression of the residual lung re...</td>\n",
       "    </tr>\n",
       "  </tbody>\n",
       "</table>\n",
       "</div>"
      ],
      "text/plain": [
       "       PMID                                              Title  \\\n",
       "0  34902587  Detection of porcine circovirus type 3 DNA in ...   \n",
       "1  35451025  Imputation of non-genotyped F1 dams to improve...   \n",
       "2  34859764  Proposed multidimensional pain outcome methodo...   \n",
       "3  35143972  Nanostructured lipid carriers loaded with an a...   \n",
       "4  34872491  Genome-wide expression of the residual lung re...   \n",
       "\n",
       "                                            Abstract  Label  \\\n",
       "0  Porcine circovirus type 3 (PCV3) is regularly ...      1   \n",
       "1  This study investigated using imputed genotype...      1   \n",
       "2  Castration of male piglets in the United State...      0   \n",
       "3  Alopecia is a condition associated with differ...      0   \n",
       "4  BACKGROUND: Acute or chronic irreversible resp...      1   \n",
       "\n",
       "                                      Title_Abstract  \n",
       "0  Detection of porcine circovirus type 3 DNA in ...  \n",
       "1  Imputation of non-genotyped F1 dams to improve...  \n",
       "2  Proposed multidimensional pain outcome methodo...  \n",
       "3  Nanostructured lipid carriers loaded with an a...  \n",
       "4  Genome-wide expression of the residual lung re...  "
      ]
     },
     "execution_count": 81,
     "metadata": {},
     "output_type": "execute_result"
    }
   ],
   "source": [
    "inference_batch['Title_Abstract'] = inference_batch['Title'] + \" \" + inference_batch['Abstract']\n",
    "print(inference_batch.shape)\n",
    "inference_batch.head()"
   ]
  },
  {
   "cell_type": "code",
   "execution_count": null,
   "metadata": {
    "execution": {
     "iopub.execute_input": "2025-03-25T05:46:28.511612Z",
     "iopub.status.busy": "2025-03-25T05:46:28.511324Z",
     "iopub.status.idle": "2025-03-25T05:46:28.698819Z",
     "shell.execute_reply": "2025-03-25T05:46:28.698111Z",
     "shell.execute_reply.started": "2025-03-25T05:46:28.511591Z"
    },
    "trusted": true
   },
   "outputs": [],
   "source": [
    "device = torch.device(\"cpu\")\n",
    "model = model.to(device)"
   ]
  },
  {
   "cell_type": "code",
   "execution_count": null,
   "metadata": {
    "execution": {
     "iopub.execute_input": "2025-03-25T05:46:28.746117Z",
     "iopub.status.busy": "2025-03-25T05:46:28.745837Z",
     "iopub.status.idle": "2025-03-25T05:57:05.924789Z",
     "shell.execute_reply": "2025-03-25T05:57:05.924046Z",
     "shell.execute_reply.started": "2025-03-25T05:46:28.746096Z"
    },
    "trusted": true
   },
   "outputs": [],
   "source": [
    "# Tokenize texts\n",
    "tokenized_inputs = tokenizer(\n",
    "    inference_batch['Title_Abstract'].tolist(), \n",
    "    truncation=True, \n",
    "    padding=True, \n",
    "    return_tensors=\"pt\"\n",
    ")\n",
    "\n",
    "\n",
    "# Move tokenized inputs to the model's device\n",
    "device = model.device\n",
    "tokenized_inputs = {key: value.to(device) for key, value in tokenized_inputs.items()}\n",
    "\n",
    "#  Run inference\n",
    "model.eval()  # Set to evaluation mode to disable dropout, etc.\n",
    "with torch.no_grad():\n",
    "    outputs = model(**tokenized_inputs)\n",
    "\n",
    "# Convert logits to probabilities using softmax\n",
    "probs = torch.softmax(outputs.logits, dim=1)  # Shape: (batch_size, 2)\n",
    "\n",
    "# Extract the probability of the positive class\n",
    "positive_probs = probs[:, 1]\n",
    "\n",
    "# Set a custom threshold\n",
    "threshold = 0.4\n",
    "predictions = (positive_probs > threshold).int()\n",
    "\n",
    "# Convert predictions to numpy array\n",
    "predictions = predictions.cpu().numpy()"
   ]
  },
  {
   "cell_type": "code",
   "execution_count": null,
   "metadata": {
    "execution": {
     "iopub.execute_input": "2025-03-25T06:11:08.430678Z",
     "iopub.status.busy": "2025-03-25T06:11:08.430292Z",
     "iopub.status.idle": "2025-03-25T06:11:08.435010Z",
     "shell.execute_reply": "2025-03-25T06:11:08.434248Z",
     "shell.execute_reply.started": "2025-03-25T06:11:08.430613Z"
    },
    "trusted": true
   },
   "outputs": [],
   "source": [
    "# Set a custom threshold\n",
    "threshold = 0.0018 # Best = 0.0018\n",
    "predictions = (positive_probs > threshold).int()\n",
    "\n",
    "# Convert predictions to numpy array\n",
    "predictions = predictions.cpu().numpy()"
   ]
  },
  {
   "cell_type": "code",
   "execution_count": null,
   "metadata": {
    "execution": {
     "iopub.execute_input": "2025-03-25T06:11:08.911901Z",
     "iopub.status.busy": "2025-03-25T06:11:08.911551Z",
     "iopub.status.idle": "2025-03-25T06:11:08.921849Z",
     "shell.execute_reply": "2025-03-25T06:11:08.920938Z",
     "shell.execute_reply.started": "2025-03-25T06:11:08.911873Z"
    },
    "trusted": true
   },
   "outputs": [
    {
     "name": "stdout",
     "output_type": "stream",
     "text": [
      "(1097, 5)\n"
     ]
    },
    {
     "data": {
      "text/html": [
       "<div>\n",
       "<style scoped>\n",
       "    .dataframe tbody tr th:only-of-type {\n",
       "        vertical-align: middle;\n",
       "    }\n",
       "\n",
       "    .dataframe tbody tr th {\n",
       "        vertical-align: top;\n",
       "    }\n",
       "\n",
       "    .dataframe thead th {\n",
       "        text-align: right;\n",
       "    }\n",
       "</style>\n",
       "<table border=\"1\" class=\"dataframe\">\n",
       "  <thead>\n",
       "    <tr style=\"text-align: right;\">\n",
       "      <th></th>\n",
       "      <th>Title_Abstract</th>\n",
       "      <th>Label</th>\n",
       "    </tr>\n",
       "  </thead>\n",
       "  <tbody>\n",
       "    <tr>\n",
       "      <th>0</th>\n",
       "      <td>Detection of porcine circovirus type 3 DNA in ...</td>\n",
       "      <td>0</td>\n",
       "    </tr>\n",
       "    <tr>\n",
       "      <th>1</th>\n",
       "      <td>Imputation of non-genotyped F1 dams to improve...</td>\n",
       "      <td>0</td>\n",
       "    </tr>\n",
       "    <tr>\n",
       "      <th>2</th>\n",
       "      <td>Proposed multidimensional pain outcome methodo...</td>\n",
       "      <td>0</td>\n",
       "    </tr>\n",
       "    <tr>\n",
       "      <th>3</th>\n",
       "      <td>Nanostructured lipid carriers loaded with an a...</td>\n",
       "      <td>0</td>\n",
       "    </tr>\n",
       "    <tr>\n",
       "      <th>4</th>\n",
       "      <td>Genome-wide expression of the residual lung re...</td>\n",
       "      <td>0</td>\n",
       "    </tr>\n",
       "  </tbody>\n",
       "</table>\n",
       "</div>"
      ],
      "text/plain": [
       "                                      Title_Abstract  Label\n",
       "0  Detection of porcine circovirus type 3 DNA in ...      0\n",
       "1  Imputation of non-genotyped F1 dams to improve...      0\n",
       "2  Proposed multidimensional pain outcome methodo...      0\n",
       "3  Nanostructured lipid carriers loaded with an a...      0\n",
       "4  Genome-wide expression of the residual lung re...      0"
      ]
     },
     "execution_count": 125,
     "metadata": {},
     "output_type": "execute_result"
    }
   ],
   "source": [
    "# Attach predictions to the DataFrame\n",
    "inference_batch['Label'] = predictions\n",
    "print(inference_batch.shape)\n",
    "inference_batch[['Title_Abstract', 'Label']].head()"
   ]
  },
  {
   "cell_type": "code",
   "execution_count": null,
   "metadata": {
    "execution": {
     "iopub.execute_input": "2025-03-25T06:11:10.294712Z",
     "iopub.status.busy": "2025-03-25T06:11:10.294408Z",
     "iopub.status.idle": "2025-03-25T06:11:10.300824Z",
     "shell.execute_reply": "2025-03-25T06:11:10.299941Z",
     "shell.execute_reply.started": "2025-03-25T06:11:10.294690Z"
    },
    "trusted": true
   },
   "outputs": [
    {
     "data": {
      "text/plain": [
       "Label\n",
       "0    890\n",
       "1    207\n",
       "Name: count, dtype: int64"
      ]
     },
     "execution_count": 126,
     "metadata": {},
     "output_type": "execute_result"
    }
   ],
   "source": [
    "inference_batch['Label'].value_counts()"
   ]
  },
  {
   "cell_type": "code",
   "execution_count": null,
   "metadata": {
    "execution": {
     "iopub.execute_input": "2025-03-25T06:11:12.064515Z",
     "iopub.status.busy": "2025-03-25T06:11:12.064195Z",
     "iopub.status.idle": "2025-03-25T06:11:12.073788Z",
     "shell.execute_reply": "2025-03-25T06:11:12.072673Z",
     "shell.execute_reply.started": "2025-03-25T06:11:12.064488Z"
    },
    "trusted": true
   },
   "outputs": [
    {
     "data": {
      "text/html": [
       "<div>\n",
       "<style scoped>\n",
       "    .dataframe tbody tr th:only-of-type {\n",
       "        vertical-align: middle;\n",
       "    }\n",
       "\n",
       "    .dataframe tbody tr th {\n",
       "        vertical-align: top;\n",
       "    }\n",
       "\n",
       "    .dataframe thead th {\n",
       "        text-align: right;\n",
       "    }\n",
       "</style>\n",
       "<table border=\"1\" class=\"dataframe\">\n",
       "  <thead>\n",
       "    <tr style=\"text-align: right;\">\n",
       "      <th></th>\n",
       "      <th>Title_Abstract</th>\n",
       "      <th>Label</th>\n",
       "    </tr>\n",
       "  </thead>\n",
       "  <tbody>\n",
       "    <tr>\n",
       "      <th>0</th>\n",
       "      <td>Detection of porcine circovirus type 3 DNA in ...</td>\n",
       "      <td>0</td>\n",
       "    </tr>\n",
       "    <tr>\n",
       "      <th>1</th>\n",
       "      <td>Imputation of non-genotyped F1 dams to improve...</td>\n",
       "      <td>0</td>\n",
       "    </tr>\n",
       "    <tr>\n",
       "      <th>2</th>\n",
       "      <td>Proposed multidimensional pain outcome methodo...</td>\n",
       "      <td>0</td>\n",
       "    </tr>\n",
       "    <tr>\n",
       "      <th>3</th>\n",
       "      <td>Nanostructured lipid carriers loaded with an a...</td>\n",
       "      <td>0</td>\n",
       "    </tr>\n",
       "    <tr>\n",
       "      <th>4</th>\n",
       "      <td>Genome-wide expression of the residual lung re...</td>\n",
       "      <td>0</td>\n",
       "    </tr>\n",
       "  </tbody>\n",
       "</table>\n",
       "</div>"
      ],
      "text/plain": [
       "                                      Title_Abstract  Label\n",
       "0  Detection of porcine circovirus type 3 DNA in ...      0\n",
       "1  Imputation of non-genotyped F1 dams to improve...      0\n",
       "2  Proposed multidimensional pain outcome methodo...      0\n",
       "3  Nanostructured lipid carriers loaded with an a...      0\n",
       "4  Genome-wide expression of the residual lung re...      0"
      ]
     },
     "execution_count": 127,
     "metadata": {},
     "output_type": "execute_result"
    }
   ],
   "source": [
    "inference_batch[['Title_Abstract', 'Label']].head()"
   ]
  },
  {
   "cell_type": "code",
   "execution_count": null,
   "metadata": {
    "execution": {
     "iopub.execute_input": "2025-03-25T06:11:19.983037Z",
     "iopub.status.busy": "2025-03-25T06:11:19.982734Z",
     "iopub.status.idle": "2025-03-25T06:11:19.989639Z",
     "shell.execute_reply": "2025-03-25T06:11:19.988696Z",
     "shell.execute_reply.started": "2025-03-25T06:11:19.983015Z"
    },
    "trusted": true
   },
   "outputs": [],
   "source": [
    "inference_batch[['PMID', 'Label']].to_csv(\"solution_26.csv\", index=False)"
   ]
  }
 ],
 "metadata": {
  "kaggle": {
   "accelerator": "gpu",
   "dataSources": [
    {
     "datasetId": 6906093,
     "sourceId": 11080504,
     "sourceType": "datasetVersion"
    },
    {
     "datasetId": 6906111,
     "sourceId": 11080527,
     "sourceType": "datasetVersion"
    },
    {
     "datasetId": 6914433,
     "sourceId": 11092180,
     "sourceType": "datasetVersion"
    },
    {
     "datasetId": 6918261,
     "sourceId": 11098185,
     "sourceType": "datasetVersion"
    },
    {
     "sourceId": 228488690,
     "sourceType": "kernelVersion"
    }
   ],
   "dockerImageVersionId": 30919,
   "isGpuEnabled": true,
   "isInternetEnabled": true,
   "language": "python",
   "sourceType": "notebook"
  },
  "kernelspec": {
   "display_name": "nlp_env",
   "language": "python",
   "name": "python3"
  },
  "language_info": {
   "codemirror_mode": {
    "name": "ipython",
    "version": 3
   },
   "file_extension": ".py",
   "mimetype": "text/x-python",
   "name": "python",
   "nbconvert_exporter": "python",
   "pygments_lexer": "ipython3",
   "version": "3.10.16"
  }
 },
 "nbformat": 4,
 "nbformat_minor": 4
}
