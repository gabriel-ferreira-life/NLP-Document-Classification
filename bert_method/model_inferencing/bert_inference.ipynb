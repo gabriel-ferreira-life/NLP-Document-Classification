{
 "cells": [
  {
   "cell_type": "markdown",
   "metadata": {},
   "source": [
    "## Libraries"
   ]
  },
  {
   "cell_type": "code",
   "execution_count": 1,
   "metadata": {
    "execution": {
     "iopub.execute_input": "2025-03-19T17:57:11.236701Z",
     "iopub.status.busy": "2025-03-19T17:57:11.236319Z",
     "iopub.status.idle": "2025-03-19T17:57:12.175032Z",
     "shell.execute_reply": "2025-03-19T17:57:12.174029Z",
     "shell.execute_reply.started": "2025-03-19T17:57:11.236670Z"
    },
    "trusted": true
   },
   "outputs": [],
   "source": [
    "import json\n",
    "import pandas as pd\n",
    "import numpy as np\n",
    "import os\n",
    "import matplotlib.pyplot as plt"
   ]
  },
  {
   "cell_type": "markdown",
   "metadata": {},
   "source": [
    "## Config"
   ]
  },
  {
   "cell_type": "code",
   "execution_count": 2,
   "metadata": {
    "execution": {
     "iopub.execute_input": "2025-03-19T17:57:43.921747Z",
     "iopub.status.busy": "2025-03-19T17:57:43.921490Z",
     "iopub.status.idle": "2025-03-19T17:58:09.503362Z",
     "shell.execute_reply": "2025-03-19T17:58:09.502605Z",
     "shell.execute_reply.started": "2025-03-19T17:57:43.921723Z"
    },
    "trusted": true
   },
   "outputs": [],
   "source": [
    "from transformers import AutoTokenizer, AutoModelForSequenceClassification, TrainingArguments, Trainer, DataCollatorWithPadding\n",
    "import evaluate\n",
    "from sklearn.model_selection import train_test_split, cross_val_score\n",
    "from datasets import DatasetDict, Dataset, load_dataset\n",
    "import torch"
   ]
  },
  {
   "cell_type": "code",
   "execution_count": 3,
   "metadata": {
    "execution": {
     "iopub.execute_input": "2025-03-19T17:58:09.505509Z",
     "iopub.status.busy": "2025-03-19T17:58:09.504905Z",
     "iopub.status.idle": "2025-03-19T17:58:09.518925Z",
     "shell.execute_reply": "2025-03-19T17:58:09.518154Z",
     "shell.execute_reply.started": "2025-03-19T17:58:09.505472Z"
    },
    "trusted": true
   },
   "outputs": [],
   "source": [
    "# Load the config file\n",
    "with open('../../config/config.json', 'r') as f:\n",
    "    config = json.load(f)\n",
    "\n",
    "file_path = config[\"data_loc\"]"
   ]
  },
  {
   "cell_type": "markdown",
   "metadata": {},
   "source": [
    " ## Datasets"
   ]
  },
  {
   "cell_type": "markdown",
   "metadata": {},
   "source": [
    "### Inference batch"
   ]
  },
  {
   "cell_type": "code",
   "execution_count": 4,
   "metadata": {
    "execution": {
     "iopub.execute_input": "2025-03-19T17:58:09.520636Z",
     "iopub.status.busy": "2025-03-19T17:58:09.520295Z",
     "iopub.status.idle": "2025-03-19T17:58:09.635693Z",
     "shell.execute_reply": "2025-03-19T17:58:09.634769Z",
     "shell.execute_reply.started": "2025-03-19T17:58:09.520602Z"
    },
    "trusted": true
   },
   "outputs": [
    {
     "name": "stdout",
     "output_type": "stream",
     "text": [
      "The inference batch has 1097 observations and 5 columns.\n"
     ]
    },
    {
     "data": {
      "text/html": [
       "<div>\n",
       "<style scoped>\n",
       "    .dataframe tbody tr th:only-of-type {\n",
       "        vertical-align: middle;\n",
       "    }\n",
       "\n",
       "    .dataframe tbody tr th {\n",
       "        vertical-align: top;\n",
       "    }\n",
       "\n",
       "    .dataframe thead th {\n",
       "        text-align: right;\n",
       "    }\n",
       "</style>\n",
       "<table border=\"1\" class=\"dataframe\">\n",
       "  <thead>\n",
       "    <tr style=\"text-align: right;\">\n",
       "      <th></th>\n",
       "      <th>PMID</th>\n",
       "      <th>Title</th>\n",
       "      <th>Abstract</th>\n",
       "      <th>Label</th>\n",
       "      <th>Title_Abstract</th>\n",
       "    </tr>\n",
       "  </thead>\n",
       "  <tbody>\n",
       "    <tr>\n",
       "      <th>0</th>\n",
       "      <td>34902587</td>\n",
       "      <td>Detection of porcine circovirus type 3 DNA in ...</td>\n",
       "      <td>Porcine circovirus type 3 (PCV3) is regularly ...</td>\n",
       "      <td>0</td>\n",
       "      <td>Detection of porcine circovirus type 3 DNA in ...</td>\n",
       "    </tr>\n",
       "    <tr>\n",
       "      <th>1</th>\n",
       "      <td>35451025</td>\n",
       "      <td>Imputation of non-genotyped F1 dams to improve...</td>\n",
       "      <td>This study investigated using imputed genotype...</td>\n",
       "      <td>0</td>\n",
       "      <td>Imputation of non-genotyped F1 dams to improve...</td>\n",
       "    </tr>\n",
       "    <tr>\n",
       "      <th>2</th>\n",
       "      <td>34859764</td>\n",
       "      <td>Proposed multidimensional pain outcome methodo...</td>\n",
       "      <td>Castration of male piglets in the United State...</td>\n",
       "      <td>0</td>\n",
       "      <td>Proposed multidimensional pain outcome methodo...</td>\n",
       "    </tr>\n",
       "    <tr>\n",
       "      <th>3</th>\n",
       "      <td>35143972</td>\n",
       "      <td>Nanostructured lipid carriers loaded with an a...</td>\n",
       "      <td>Alopecia is a condition associated with differ...</td>\n",
       "      <td>0</td>\n",
       "      <td>Nanostructured lipid carriers loaded with an a...</td>\n",
       "    </tr>\n",
       "    <tr>\n",
       "      <th>4</th>\n",
       "      <td>34872491</td>\n",
       "      <td>Genome-wide expression of the residual lung re...</td>\n",
       "      <td>BACKGROUND: Acute or chronic irreversible resp...</td>\n",
       "      <td>0</td>\n",
       "      <td>Genome-wide expression of the residual lung re...</td>\n",
       "    </tr>\n",
       "  </tbody>\n",
       "</table>\n",
       "</div>"
      ],
      "text/plain": [
       "       PMID                                              Title  \\\n",
       "0  34902587  Detection of porcine circovirus type 3 DNA in ...   \n",
       "1  35451025  Imputation of non-genotyped F1 dams to improve...   \n",
       "2  34859764  Proposed multidimensional pain outcome methodo...   \n",
       "3  35143972  Nanostructured lipid carriers loaded with an a...   \n",
       "4  34872491  Genome-wide expression of the residual lung re...   \n",
       "\n",
       "                                            Abstract  Label  \\\n",
       "0  Porcine circovirus type 3 (PCV3) is regularly ...      0   \n",
       "1  This study investigated using imputed genotype...      0   \n",
       "2  Castration of male piglets in the United State...      0   \n",
       "3  Alopecia is a condition associated with differ...      0   \n",
       "4  BACKGROUND: Acute or chronic irreversible resp...      0   \n",
       "\n",
       "                                      Title_Abstract  \n",
       "0  Detection of porcine circovirus type 3 DNA in ...  \n",
       "1  Imputation of non-genotyped F1 dams to improve...  \n",
       "2  Proposed multidimensional pain outcome methodo...  \n",
       "3  Nanostructured lipid carriers loaded with an a...  \n",
       "4  Genome-wide expression of the residual lung re...  "
      ]
     },
     "execution_count": 4,
     "metadata": {},
     "output_type": "execute_result"
    }
   ],
   "source": [
    "# Define file path\n",
    "file_name = \"test_unlabeled.tsv\"\n",
    "final_path = os.path.join(\"..\", file_path, file_name) \n",
    "\n",
    "# Load tsv file\n",
    "inference_batch = pd.read_csv(final_path, sep='\\t')\n",
    "inference_batch['Title_Abstract'] = inference_batch['Title'] + \" \" + inference_batch['Abstract']\n",
    "print(f\"The inference batch has {inference_batch.shape[0]} observations and {inference_batch.shape[1]} columns.\")\n",
    "inference_batch.head()"
   ]
  },
  {
   "cell_type": "markdown",
   "metadata": {},
   "source": [
    "#### Load Pre-Trained Model"
   ]
  },
  {
   "cell_type": "code",
   "execution_count": 5,
   "metadata": {
    "execution": {
     "iopub.execute_input": "2025-03-19T17:58:46.573003Z",
     "iopub.status.busy": "2025-03-19T17:58:46.572641Z",
     "iopub.status.idle": "2025-03-19T17:58:46.897279Z",
     "shell.execute_reply": "2025-03-19T17:58:46.896292Z",
     "shell.execute_reply.started": "2025-03-19T17:58:46.572971Z"
    },
    "trusted": true
   },
   "outputs": [],
   "source": [
    "# Define pre-trained model path\n",
    "model_path = \"../model_training/checkpoints/checkpoint-8118\"\n",
    "\n",
    "# Load model tokeninzer\n",
    "tokenizer = AutoTokenizer.from_pretrained(model_path)\n",
    "\n",
    "# Load model with binary classification head\n",
    "model = AutoModelForSequenceClassification.from_pretrained(model_path,\n",
    "                                                           num_labels=2,)"
   ]
  },
  {
   "cell_type": "code",
   "execution_count": 9,
   "metadata": {},
   "outputs": [],
   "source": [
    "os.makedirs(\"preds\", exist_ok=True)"
   ]
  },
  {
   "cell_type": "markdown",
   "metadata": {},
   "source": [
    "### Inference Data"
   ]
  },
  {
   "cell_type": "code",
   "execution_count": null,
   "metadata": {
    "execution": {
     "iopub.execute_input": "2025-03-19T19:39:03.427154Z",
     "iopub.status.busy": "2025-03-19T19:39:03.426866Z"
    },
    "trusted": true
   },
   "outputs": [],
   "source": [
    "device = torch.device(\"cpu\")\n",
    "model = model.to(device)\n",
    "\n",
    "# Tokenize texts\n",
    "tokenized_inputs = tokenizer(\n",
    "    inference_batch['Title_Abstract'].tolist(), \n",
    "    truncation=True, \n",
    "    padding=True, \n",
    "    return_tensors=\"pt\"\n",
    ")\n",
    "\n",
    "\n",
    "# Move tokenized inputs to the model's device\n",
    "device = model.device\n",
    "tokenized_inputs = {key: value.to(device) for key, value in tokenized_inputs.items()}\n",
    "\n",
    "#  Run inference\n",
    "model.eval()  # Set to evaluation mode to disable dropout, etc.\n",
    "with torch.no_grad():\n",
    "    outputs = model(**tokenized_inputs)\n",
    "\n",
    "# Extract predictions for classification\n",
    "predictions = torch.argmax(outputs.logits, dim=1)\n",
    "predictions = predictions.cpu().numpy()\n",
    "\n",
    "# Attach predictions to the DataFrame\n",
    "inference_batch['Label'] = predictions\n",
    "print(inference_batch.shape)\n",
    "inference_batch[['Title_Abstract', 'Label']].head()"
   ]
  },
  {
   "cell_type": "code",
   "execution_count": null,
   "metadata": {
    "trusted": true
   },
   "outputs": [],
   "source": [
    "inference_batch['Label'].value_counts()"
   ]
  },
  {
   "cell_type": "code",
   "execution_count": null,
   "metadata": {
    "trusted": true
   },
   "outputs": [],
   "source": [
    "inference_batch[['Title_Abstract', 'Label']].head()"
   ]
  },
  {
   "cell_type": "code",
   "execution_count": null,
   "metadata": {
    "trusted": true
   },
   "outputs": [],
   "source": [
    "inference_batch[['PMID', 'Label']].to_csv(f\"preds/solution_22.csv\", index=False)"
   ]
  }
 ],
 "metadata": {
  "kaggle": {
   "accelerator": "gpu",
   "dataSources": [
    {
     "datasetId": 6906093,
     "sourceId": 11080504,
     "sourceType": "datasetVersion"
    },
    {
     "datasetId": 6906111,
     "sourceId": 11080527,
     "sourceType": "datasetVersion"
    },
    {
     "datasetId": 6914433,
     "sourceId": 11092180,
     "sourceType": "datasetVersion"
    },
    {
     "sourceId": 228488690,
     "sourceType": "kernelVersion"
    }
   ],
   "dockerImageVersionId": 30919,
   "isGpuEnabled": true,
   "isInternetEnabled": true,
   "language": "python",
   "sourceType": "notebook"
  },
  "kernelspec": {
   "display_name": "nlp_env",
   "language": "python",
   "name": "python3"
  },
  "language_info": {
   "codemirror_mode": {
    "name": "ipython",
    "version": 3
   },
   "file_extension": ".py",
   "mimetype": "text/x-python",
   "name": "python",
   "nbconvert_exporter": "python",
   "pygments_lexer": "ipython3",
   "version": "3.10.16"
  }
 },
 "nbformat": 4,
 "nbformat_minor": 4
}
